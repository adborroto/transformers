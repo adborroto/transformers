{
 "cells": [
  {
   "cell_type": "markdown",
   "metadata": {},
   "source": [
    "# ROUGE\n",
    "\n",
    "Measuring the performance of models in ML gets much more complex when we're dealing with language. For automatic summarization and machine translation tasks the Recall-Oriented Understudy for Gisting Evaluation (ROUGE) metric is a very commonly used metric. The name makes it sound deceptively complex, fortunately though - it's an easy metric to understand, and even easier to implement with Python.\n",
    "\n",
    "ROUGE is actually a set of metrics, we will be covering the three most commonly used:\n",
    "\n",
    "* ROUGE-N\n",
    "* ROUGE-L\n",
    "* *ROUGE-S*\n",
    "\n",
    "## ROUGE-N\n",
    "\n",
    "TK"
   ]
  },
  {
   "cell_type": "code",
   "execution_count": null,
   "metadata": {},
   "outputs": [],
   "source": []
  }
 ],
 "metadata": {
  "kernelspec": {
   "display_name": "NLP",
   "language": "python",
   "name": "ari"
  },
  "language_info": {
   "codemirror_mode": {
    "name": "ipython",
    "version": 3
   },
   "file_extension": ".py",
   "mimetype": "text/x-python",
   "name": "python",
   "nbconvert_exporter": "python",
   "pygments_lexer": "ipython3",
   "version": "3.8.5"
  }
 },
 "nbformat": 4,
 "nbformat_minor": 4
}
