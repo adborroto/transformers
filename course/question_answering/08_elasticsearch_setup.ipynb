{
 "cells": [
  {
   "cell_type": "markdown",
   "metadata": {},
   "source": [
    "# Elasticsearch Setup\n",
    "\n",
    "Elasticsearch is hosted seperately to Python. It will run as a local server on our computer.\n",
    "\n",
    "## Installation\n",
    "\n",
    "First, we need to install Elasticsearch. For this we need to head over [here](https://www.elastic.co/guide/en/elasticsearch/reference/current/install-elasticsearch.html) and install the correct version underneath **Installing Elasticsearch Yourself**.\n",
    "\n",
    "## Starting Elasticsearch\n",
    "\n",
    "To start an Elasticsearch instance, from inside the */elasticsearch-X.XX.X* directory we type:\n",
    "\n",
    "```\n",
    ".bin/elasticsearch\n",
    "```\n",
    "\n",
    "*(You may have done this already when following through the **Installing Elasticsearch Yourself** steps for Linux)*\n",
    "\n",
    "*(For Windows, Elastic should have started automatically, but if not you should be able to find **elasticsearch.exe** in a directory like `C:\\Program Files\\Elastic\\Elasticsearch\\7.11.2\\bin`)*\n",
    "\n",
    "And that's all we needed to do, Elasticsearch is ready to go."
   ]
  }
 ],
 "metadata": {
  "kernelspec": {
   "display_name": "ML",
   "language": "python",
   "name": "ml"
  },
  "language_info": {
   "codemirror_mode": {
    "name": "ipython",
    "version": 3
   },
   "file_extension": ".py",
   "mimetype": "text/x-python",
   "name": "python",
   "nbconvert_exporter": "python",
   "pygments_lexer": "ipython3",
   "version": "3.8.5"
  }
 },
 "nbformat": 4,
 "nbformat_minor": 5
}
