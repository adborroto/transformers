{
 "cells": [
  {
   "cell_type": "markdown",
   "id": "perceived-vanilla",
   "metadata": {},
   "source": [
    "# SQuAD 2.0 Dataset (Python 3.10)\n",
    "\n",
    "Python 3.10 has introduced something called **Structural Pattern Matching**, which are similiar to switch-case statements (*but would be better named **match-case** in Python*) and allow us to parse our SQuAD data in a cleaner fashion. If you have access to Python 3.10, try this method out - otherwise stick with the previous approach.\n",
    "\n",
    "We will load in our data just as before."
   ]
  },
  {
   "cell_type": "code",
   "execution_count": 1,
   "id": "valuable-swift",
   "metadata": {},
   "outputs": [],
   "source": [
    "import os\n",
    "import json\n",
    "\n",
    "squad_dir = '../../data/squad'\n",
    "\n",
    "with open(os.path.join(squad_dir, 'train-v2.0.json'), 'rb') as f:\n",
    "    squad = json.load(f)"
   ]
  },
  {
   "cell_type": "markdown",
   "id": "aquatic-aurora",
   "metadata": {},
   "source": [
    "The match-case statement logic looks like this:\n",
    "\n",
    "![train-v2.0.json structure](../../assets/images/match_case_logic.png)\n",
    "\n",
    "Let's try applying is to a simple example first so that we can full grasp the logic and syntax."
   ]
  },
  {
   "cell_type": "code",
   "execution_count": 2,
   "id": "bound-sailing",
   "metadata": {},
   "outputs": [
    {
     "name": "stdout",
     "output_type": "stream",
     "text": [
      "I'm a teapot\n"
     ]
    }
   ],
   "source": [
    "# we will be testing the value of our http_code\n",
    "http_code = '418'\n",
    "\n",
    "# we begin the match-case statement with the match keyword and the 'subject' of our statement\n",
    "match http_code:\n",
    "    # now we write multiple cases where if http_code matches the given pattern, we will execute the code\n",
    "    case '200':\n",
    "        print('OK')\n",
    "    case '404':\n",
    "        print('Not found')\n",
    "    case '418':\n",
    "        print(\"I'm a teapot\")\n",
    "    case _:\n",
    "        print('HTTP code not recognized')"
   ]
  },
  {
   "cell_type": "markdown",
   "id": "micro-rolling",
   "metadata": {},
   "source": [
    "Because our `case '418'` pattern matches the subject `http_code`, the `print(\"I'm a teapot\")` block is executed. In this scenerio the code behaves very much like an if-elif-else statement. We even have our *else* equivalent with the `case _` condition at the end, which acts as a *catch-all*:"
   ]
  },
  {
   "cell_type": "code",
   "execution_count": 3,
   "id": "official-pharmacology",
   "metadata": {},
   "outputs": [
    {
     "name": "stdout",
     "output_type": "stream",
     "text": [
      "HTTP code not recognized\n"
     ]
    }
   ],
   "source": [
    "http_code = \"I'm not an HTTP code\"\n",
    "\n",
    "match http_code:\n",
    "    case '200':\n",
    "        print('OK')\n",
    "    case '404':\n",
    "        print('Not found')\n",
    "    case '418':\n",
    "        print(\"I'm a teapot\")\n",
    "    case _:\n",
    "        print('HTTP code not recognized')"
   ]
  },
  {
   "cell_type": "markdown",
   "id": "annoying-significance",
   "metadata": {},
   "source": [
    "Great, so now we have a grasp of these new match-case statements. However, we don't need to check for *exact* matches with our match-case, and for our use-case we don't want to. We will be checking if the returned dictionary structure contains the values we need (eg does is contain a list under *'plausible_answers'*?\n",
    "\n",
    "It's also worth noting that values like empty lists, strings, *0*, and *None* will return as **falsy**. So in the case where we find that *'answers'* exists but just contains an empty list, we will be returning **falsy** and therefore not execute the respective code block.\n",
    "\n",
    "So, let's write it out."
   ]
  },
  {
   "cell_type": "code",
   "execution_count": 4,
   "id": "overhead-dragon",
   "metadata": {},
   "outputs": [],
   "source": [
    "# initialize list where we will place all of our data\n",
    "new_squad = []\n",
    "\n",
    "# we need to loop through groups -> paragraphs -> qa_pairs\n",
    "for group in squad['data']:\n",
    "    for paragraph in group['paragraphs']:\n",
    "        # we pull out the context from here\n",
    "        context = paragraph['context']\n",
    "        for qa_pair in paragraph['qas']:\n",
    "            # we pull out the question\n",
    "            question = qa_pair['question']\n",
    "            # now the NEW match-case logic to check if we have 'answers' or 'plausible_answers'\n",
    "            match qa_pair:\n",
    "                case {'answers': [{'text': answer}]}:\n",
    "                    # this will be truthy IF the qa_pair dictionary contains a 'answers' key\n",
    "                    # which in turn contains a list containing a dictionary with a 'text' key\n",
    "                    # and any value mapping to this 'text' key is assigned to the answer variable\n",
    "                    pass  # because the case pattern assigns 'answer' for us, we pass\n",
    "                case {'plausible_answers': [{'text': answer}]}:\n",
    "                    # we perform same check but for 'plausible_answers'\n",
    "                    pass\n",
    "                case _:\n",
    "                    # this is our catchall, we will set answer to None\n",
    "                    answer = None\n",
    "            # append dictionary sample to parsed squad\n",
    "            new_squad.append({\n",
    "                'question': question,\n",
    "                'answer': answer,\n",
    "                'context': context\n",
    "            })"
   ]
  },
  {
   "cell_type": "code",
   "execution_count": 5,
   "id": "disabled-interaction",
   "metadata": {},
   "outputs": [
    {
     "data": {
      "text/plain": [
       "([{'question': 'When did Beyonce start becoming popular?',\n",
       "   'answer': 'in the late 1990s',\n",
       "   'context': 'Beyoncé Giselle Knowles-Carter (/biːˈjɒnseɪ/ bee-YON-say) (born September 4, 1981) is an American singer, songwriter, record producer and actress. Born and raised in Houston, Texas, she performed in various singing and dancing competitions as a child, and rose to fame in the late 1990s as lead singer of R&B girl-group Destiny\\'s Child. Managed by her father, Mathew Knowles, the group became one of the world\\'s best-selling girl groups of all time. Their hiatus saw the release of Beyoncé\\'s debut album, Dangerously in Love (2003), which established her as a solo artist worldwide, earned five Grammy Awards and featured the Billboard Hot 100 number-one singles \"Crazy in Love\" and \"Baby Boy\".'},\n",
       "  {'question': 'What areas did Beyonce compete in when she was growing up?',\n",
       "   'answer': 'singing and dancing',\n",
       "   'context': 'Beyoncé Giselle Knowles-Carter (/biːˈjɒnseɪ/ bee-YON-say) (born September 4, 1981) is an American singer, songwriter, record producer and actress. Born and raised in Houston, Texas, she performed in various singing and dancing competitions as a child, and rose to fame in the late 1990s as lead singer of R&B girl-group Destiny\\'s Child. Managed by her father, Mathew Knowles, the group became one of the world\\'s best-selling girl groups of all time. Their hiatus saw the release of Beyoncé\\'s debut album, Dangerously in Love (2003), which established her as a solo artist worldwide, earned five Grammy Awards and featured the Billboard Hot 100 number-one singles \"Crazy in Love\" and \"Baby Boy\".'}],\n",
       " [{'question': 'Matter usually does not need to be used in conjunction with what?',\n",
       "   'answer': 'a specifying modifier',\n",
       "   'context': 'The term \"matter\" is used throughout physics in a bewildering variety of contexts: for example, one refers to \"condensed matter physics\", \"elementary matter\", \"partonic\" matter, \"dark\" matter, \"anti\"-matter, \"strange\" matter, and \"nuclear\" matter. In discussions of matter and antimatter, normal matter has been referred to by Alfvén as koinomatter (Gk. common matter). It is fair to say that in physics, there is no broad consensus as to a general definition of matter, and the term \"matter\" usually is used in conjunction with a specifying modifier.'},\n",
       "  {'question': 'What field of study has a variety of unusual contexts?',\n",
       "   'answer': 'physics',\n",
       "   'context': 'The term \"matter\" is used throughout physics in a bewildering variety of contexts: for example, one refers to \"condensed matter physics\", \"elementary matter\", \"partonic\" matter, \"dark\" matter, \"anti\"-matter, \"strange\" matter, and \"nuclear\" matter. In discussions of matter and antimatter, normal matter has been referred to by Alfvén as koinomatter (Gk. common matter). It is fair to say that in physics, there is no broad consensus as to a general definition of matter, and the term \"matter\" usually is used in conjunction with a specifying modifier.'}])"
      ]
     },
     "execution_count": 5,
     "metadata": {},
     "output_type": "execute_result"
    }
   ],
   "source": [
    "new_squad[:2], new_squad[-2:]"
   ]
  },
  {
   "cell_type": "markdown",
   "id": "official-keeping",
   "metadata": {},
   "source": [
    "Perfect, we have the exact same output as produced with our **if-else** version in the previous notebook. We can save our parsed data to file as a JSON like before:"
   ]
  },
  {
   "cell_type": "code",
   "execution_count": 6,
   "id": "registered-shepherd",
   "metadata": {},
   "outputs": [],
   "source": [
    "with open(os.path.join(squad_dir, 'train.json'), 'w') as f:\n",
    "    json.dump(new_squad, f)"
   ]
  }
 ],
 "metadata": {
  "kernelspec": {
   "display_name": "Python 3",
   "language": "python",
   "name": "python3"
  },
  "language_info": {
   "codemirror_mode": {
    "name": "ipython",
    "version": 3
   },
   "file_extension": ".py",
   "mimetype": "text/x-python",
   "name": "python",
   "nbconvert_exporter": "python",
   "pygments_lexer": "ipython3",
   "version": "3.10.0a6"
  }
 },
 "nbformat": 4,
 "nbformat_minor": 5
}
