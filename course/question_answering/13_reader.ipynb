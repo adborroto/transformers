{
 "cells": [
  {
   "cell_type": "markdown",
   "id": "naked-haiti",
   "metadata": {},
   "source": [
    "# Reader\n",
    "\n",
    "We've already explored the *reader* model in the first few sections of this chapter, where we loaded a pretrained model using the `transformers` library.\n",
    "\n",
    "Now, we'll do the same thing but via Haystack - which uses the same `transformers` library in the background (so we can use the same pretrained model names).\n",
    "\n",
    "To initialize our reader via Haystack all we need is:"
   ]
  },
  {
   "cell_type": "code",
   "execution_count": 1,
   "id": "thrown-hanging",
   "metadata": {},
   "outputs": [
    {
     "name": "stderr",
     "output_type": "stream",
     "text": [
      "03/27/2021 14:23:42 - INFO - faiss -   Loading faiss with AVX2 support.\n",
      "03/27/2021 14:23:42 - INFO - faiss -   Loading faiss.\n",
      "03/27/2021 14:23:42 - INFO - farm.utils -   Using device: CUDA \n",
      "03/27/2021 14:23:42 - INFO - farm.utils -   Number of GPUs: 1\n",
      "03/27/2021 14:23:42 - INFO - farm.utils -   Distributed Training: False\n",
      "03/27/2021 14:23:42 - INFO - farm.utils -   Automatic Mixed Precision: None\n",
      "03/27/2021 14:23:53 - WARNING - farm.utils -   ML Logging is turned off. No parameters, metrics or artifacts will be logged to MLFlow.\n",
      "03/27/2021 14:23:53 - INFO - farm.utils -   Using device: CUDA \n",
      "03/27/2021 14:23:53 - INFO - farm.utils -   Number of GPUs: 1\n",
      "03/27/2021 14:23:53 - INFO - farm.utils -   Distributed Training: False\n",
      "03/27/2021 14:23:53 - INFO - farm.utils -   Automatic Mixed Precision: None\n",
      "03/27/2021 14:23:54 - INFO - farm.infer -   Got ya 19 parallel workers to do inference ...\n",
      "03/27/2021 14:23:54 - INFO - farm.infer -    0    0    0    0    0    0    0    0    0    0    0    0    0    0    0    0    0    0    0 \n",
      "03/27/2021 14:23:54 - INFO - farm.infer -   /w\\  /w\\  /w\\  /w\\  /w\\  /w\\  /w\\  /|\\  /w\\  /w\\  /w\\  /w\\  /w\\  /w\\  /|\\  /w\\  /|\\  /|\\  /|\\\n",
      "03/27/2021 14:23:54 - INFO - farm.infer -   /'\\  / \\  /'\\  /'\\  / \\  / \\  /'\\  /'\\  /'\\  /'\\  /'\\  /'\\  / \\  /'\\  /'\\  / \\  /'\\  /'\\  /'\\\n",
      "03/27/2021 14:23:54 - INFO - farm.infer -                                       \n"
     ]
    }
   ],
   "source": [
    "from haystack.reader.farm import FARMReader\n",
    "\n",
    "reader = FARMReader(model_name_or_path='deepset/bert-base-cased-squad2', use_gpu=True)"
   ]
  },
  {
   "cell_type": "markdown",
   "id": "rubber-israeli",
   "metadata": {},
   "source": [
    "Now we have our reader model initialized, let's load up our FAISS index and DPR just like before."
   ]
  },
  {
   "cell_type": "code",
   "execution_count": 2,
   "id": "advanced-outreach",
   "metadata": {},
   "outputs": [],
   "source": [
    "from haystack.document_store.faiss import FAISSDocumentStore\n",
    "from haystack.retriever.dense import DensePassageRetriever\n",
    "\n",
    "path = '../../models/faiss'\n",
    "\n",
    "# load FAISS from file (the squad validation set index)\n",
    "document_store = FAISSDocumentStore.load(f'{path}/squad_dev.faiss', f'sqlite:///{path}/squad_dev.db')\n",
    "\n",
    "# initialize DPR model\n",
    "retriever = DensePassageRetriever(\n",
    "    document_store=document_store,\n",
    "    query_embedding_model='facebook/dpr-question_encoder-single-nq-base',\n",
    "    passage_embedding_model='facebook/dpr-ctx_encoder-single-nq-base',\n",
    "    use_gpu=True,\n",
    "    embed_title=True\n",
    ")"
   ]
  },
  {
   "cell_type": "markdown",
   "id": "sticky-habitat",
   "metadata": {},
   "source": [
    "Haystack comes with a very convenient `ExtractiveQAPipeline` class which allows us to pass our `reader` and `retriever` to build an easy-to-use *extractive* Q&A pipeline:"
   ]
  },
  {
   "cell_type": "code",
   "execution_count": 5,
   "id": "contained-richards",
   "metadata": {},
   "outputs": [],
   "source": [
    "from haystack.pipeline import ExtractiveQAPipeline\n",
    "\n",
    "pipeline = ExtractiveQAPipeline(reader=reader, retriever=retriever)"
   ]
  },
  {
   "cell_type": "markdown",
   "id": "brown-brazil",
   "metadata": {},
   "source": [
    "We can ask questions using the `run` method, alongside the `query` parameter:"
   ]
  },
  {
   "cell_type": "code",
   "execution_count": 8,
   "id": "australian-australian",
   "metadata": {},
   "outputs": [
    {
     "name": "stderr",
     "output_type": "stream",
     "text": [
      "Creating Embeddings: 100%|██████████| 1/1 [00:00<00:00, 37.20 Batches/s]\n",
      "Inferencing Samples: 100%|██████████| 1/1 [00:00<00:00, 25.47 Batches/s]\n",
      "Inferencing Samples: 100%|██████████| 1/1 [00:00<00:00, 56.56 Batches/s]\n",
      "Inferencing Samples: 100%|██████████| 1/1 [00:00<00:00, 102.21 Batches/s]\n",
      "Inferencing Samples: 100%|██████████| 1/1 [00:00<00:00, 102.27 Batches/s]\n",
      "Inferencing Samples: 100%|██████████| 1/1 [00:00<00:00, 101.52 Batches/s]\n",
      "Inferencing Samples: 100%|██████████| 1/1 [00:00<00:00, 96.01 Batches/s]\n",
      "Inferencing Samples: 100%|██████████| 1/1 [00:00<00:00, 101.99 Batches/s]\n",
      "Inferencing Samples: 100%|██████████| 1/1 [00:00<00:00, 102.57 Batches/s]\n",
      "Inferencing Samples: 100%|██████████| 1/1 [00:00<00:00, 91.99 Batches/s]\n",
      "Inferencing Samples: 100%|██████████| 1/1 [00:00<00:00, 99.10 Batches/s]\n"
     ]
    },
    {
     "data": {
      "text/plain": [
       "{'query': 'What does theoretical computer science cover?',\n",
       " 'no_ans_gap': 6.868406772613525,\n",
       " 'answers': [{'answer': 'analysis of algorithms and computability theory',\n",
       "   'score': 13.122962951660156,\n",
       "   'probability': 0.8375853272849054,\n",
       "   'context': ' related fields in theoretical computer science are analysis of algorithms and computability theory. A key distinction between analysis of algorithms ',\n",
       "   'offset_start': 52,\n",
       "   'offset_end': 99,\n",
       "   'offset_start_in_doc': 59,\n",
       "   'offset_end_in_doc': 106,\n",
       "   'document_id': '285be3e8-24c2-43f3-bb09-04d0847a9c13',\n",
       "   'meta': {'vector_id': '177'}},\n",
       "  {'answer': 'Science of the Physical Universe',\n",
       "   'score': 6.1175031661987305,\n",
       "   'probability': 0.6823706602798535,\n",
       "   'context': 'l Reasoning, Ethical Reasoning, Science of Living Systems, Science of the Physical Universe, Societies of the World, and United States in the World. H',\n",
       "   'offset_start': 59,\n",
       "   'offset_end': 91,\n",
       "   'offset_start_in_doc': 556,\n",
       "   'offset_end_in_doc': 588,\n",
       "   'document_id': '9e69c72d-cc6b-4f61-a6ec-36f2007f0a43',\n",
       "   'meta': {'vector_id': '722'}},\n",
       "  {'answer': 'algorithmic problems',\n",
       "   'score': 4.288228988647461,\n",
       "   'probability': 0.630888091716119,\n",
       "   'context': 'fore the actual research explicitly devoted to the complexity of algorithmic problems started off, numerous foundations were laid out by various resea',\n",
       "   'offset_start': 65,\n",
       "   'offset_end': 85,\n",
       "   'offset_start_in_doc': 67,\n",
       "   'offset_end_in_doc': 87,\n",
       "   'document_id': '3889fec9-df9f-4d3f-a46d-39282dc9c2bd',\n",
       "   'meta': {'vector_id': '259'}},\n",
       "  {'answer': 'parallel computing',\n",
       "   'score': 0.07714587450027466,\n",
       "   'probability': 0.5024107898961545,\n",
       "   'context': 'used in circuit complexity) and the number of processors (used in parallel computing). One of the roles of computational complexity theory is to deter',\n",
       "   'offset_start': 66,\n",
       "   'offset_end': 84,\n",
       "   'offset_start_in_doc': 536,\n",
       "   'offset_end_in_doc': 554,\n",
       "   'document_id': 'b3a3087e-7b89-4e91-ad15-382f8c8259d0',\n",
       "   'meta': {'vector_id': '839'}},\n",
       "  {'answer': 'computational complexity',\n",
       "   'score': -0.44913703203201294,\n",
       "   'probability': 0.4859681531820915,\n",
       "   'context': 'Homer (2003) point out, the beginning of systematic studies in computational complexity is attributed to the seminal paper \"On the Computational Compl',\n",
       "   'offset_start': 63,\n",
       "   'offset_end': 87,\n",
       "   'offset_start_in_doc': 76,\n",
       "   'offset_end_in_doc': 100,\n",
       "   'document_id': 'a5fbfb0e-47e3-48cd-8560-636913a5ae2a',\n",
       "   'meta': {'vector_id': '764'}},\n",
       "  {'answer': 'The field really began to flourish in 1971 when the US researcher Stephen Cook and, working independently, Leonid Levin in the USSR, proved that there exist practically relevant problems that are NP-complete',\n",
       "   'score': -1.8913869857788086,\n",
       "   'probability': 0.44116794152249217,\n",
       "   'context': ' The field really began to flourish in 1971 when the US researcher Stephen Cook and, working independently, Leonid Levin in the USSR, proved that there exist practically relevant problems that are NP-complete',\n",
       "   'offset_start': 1,\n",
       "   'offset_end': 208,\n",
       "   'offset_start_in_doc': 147,\n",
       "   'offset_end_in_doc': 354,\n",
       "   'document_id': 'f0c51494-e10b-451b-abaf-05caca8737d7',\n",
       "   'meta': {'vector_id': '1131'}},\n",
       "  {'answer': 'Complexity measures',\n",
       "   'score': -1.9419519901275635,\n",
       "   'probability': 0.43961024657907055,\n",
       "   'context': 'any complexity measure can be viewed as a computational resource. Complexity measures are very generally defined by the Blum complexity axioms. Other ',\n",
       "   'offset_start': 66,\n",
       "   'offset_end': 85,\n",
       "   'offset_start_in_doc': 194,\n",
       "   'offset_end_in_doc': 213,\n",
       "   'document_id': 'c5ee4f1f-23a7-4ec7-bdee-a53c773fed5b',\n",
       "   'meta': {'vector_id': '930'}},\n",
       "  {'answer': 'classifying computational problems according to their inherent difficulty',\n",
       "   'score': -2.6568474769592285,\n",
       "   'probability': 0.4177283052248899,\n",
       "   'context': 'tical computer science that focuses on classifying computational problems according to their inherent difficulty, and relating those classes to each o',\n",
       "   'offset_start': 39,\n",
       "   'offset_end': 112,\n",
       "   'offset_start_in_doc': 121,\n",
       "   'offset_end_in_doc': 194,\n",
       "   'document_id': '674e2d0f-7690-4145-96e0-bedcb2d26413',\n",
       "   'meta': {'vector_id': '485'}},\n",
       "  {'answer': 'anything from an advanced supercomputer to a mathematician with a pencil and paper',\n",
       "   'score': -4.588138580322266,\n",
       "   'probability': 0.3604256177971916,\n",
       "   'context': ' representing a computing machine—anything from an advanced supercomputer to a mathematician with a pencil and paper. It is believed that if a problem',\n",
       "   'offset_start': 34,\n",
       "   'offset_end': 116,\n",
       "   'offset_start_in_doc': 293,\n",
       "   'offset_end_in_doc': 375,\n",
       "   'document_id': '9cebf642-4ee3-48f2-a4af-ee89c1c7e16b',\n",
       "   'meta': {'vector_id': '717'}},\n",
       "  {'answer': 'computational complexity theory, a problem refers to the abstract question to be solved',\n",
       "   'score': -6.835878372192383,\n",
       "   'probability': 0.29849291616131507,\n",
       "   'context': 'sed with the problem itself. In computational complexity theory, a problem refers to the abstract question to be solved. In contrast, an instance of t',\n",
       "   'offset_start': 32,\n",
       "   'offset_end': 119,\n",
       "   'offset_start_in_doc': 260,\n",
       "   'offset_end_in_doc': 347,\n",
       "   'document_id': 'b09ed180-2e46-44bc-8716-4fa80ff5688f',\n",
       "   'meta': {'vector_id': '827'}}]}"
      ]
     },
     "execution_count": 8,
     "metadata": {},
     "output_type": "execute_result"
    }
   ],
   "source": [
    "pipeline.run(query='What does theoretical computer science cover?')"
   ]
  },
  {
   "cell_type": "markdown",
   "id": "recent-breathing",
   "metadata": {},
   "source": [
    "Here we're returning a lot of different answers, which is not really necessary. We can limit the number of answers we return using two parameters, `top_k_retriever` and `top_k_reader`. Both of these limit the number of items being returned from the `retriever` and `reader` models respectively."
   ]
  },
  {
   "cell_type": "code",
   "execution_count": 9,
   "id": "toxic-contrary",
   "metadata": {},
   "outputs": [
    {
     "name": "stderr",
     "output_type": "stream",
     "text": [
      "Creating Embeddings: 100%|██████████| 1/1 [00:00<00:00, 30.25 Batches/s]\n",
      "Inferencing Samples: 100%|██████████| 1/1 [00:00<00:00, 65.98 Batches/s]\n",
      "Inferencing Samples: 100%|██████████| 1/1 [00:00<00:00, 79.47 Batches/s]\n",
      "Inferencing Samples: 100%|██████████| 1/1 [00:00<00:00, 79.59 Batches/s]\n"
     ]
    },
    {
     "data": {
      "text/plain": [
       "{'query': 'What does theoretical computer science cover?',\n",
       " 'no_ans_gap': 6.868406772613525,\n",
       " 'answers': [{'answer': 'analysis of algorithms and computability theory',\n",
       "   'score': 13.122962951660156,\n",
       "   'probability': 0.8375853272849054,\n",
       "   'context': ' related fields in theoretical computer science are analysis of algorithms and computability theory. A key distinction between analysis of algorithms ',\n",
       "   'offset_start': 52,\n",
       "   'offset_end': 99,\n",
       "   'offset_start_in_doc': 59,\n",
       "   'offset_end_in_doc': 106,\n",
       "   'document_id': '285be3e8-24c2-43f3-bb09-04d0847a9c13',\n",
       "   'meta': {'vector_id': '177'}},\n",
       "  {'answer': 'Science of the Physical Universe',\n",
       "   'score': 6.1175031661987305,\n",
       "   'probability': 0.6823706602798535,\n",
       "   'context': 'l Reasoning, Ethical Reasoning, Science of Living Systems, Science of the Physical Universe, Societies of the World, and United States in the World. H',\n",
       "   'offset_start': 59,\n",
       "   'offset_end': 91,\n",
       "   'offset_start_in_doc': 556,\n",
       "   'offset_end_in_doc': 588,\n",
       "   'document_id': '9e69c72d-cc6b-4f61-a6ec-36f2007f0a43',\n",
       "   'meta': {'vector_id': '722'}},\n",
       "  {'answer': 'classifying computational problems according to their inherent difficulty',\n",
       "   'score': -2.6568474769592285,\n",
       "   'probability': 0.4177283052248899,\n",
       "   'context': 'tical computer science that focuses on classifying computational problems according to their inherent difficulty, and relating those classes to each o',\n",
       "   'offset_start': 39,\n",
       "   'offset_end': 112,\n",
       "   'offset_start_in_doc': 121,\n",
       "   'offset_end_in_doc': 194,\n",
       "   'document_id': '674e2d0f-7690-4145-96e0-bedcb2d26413',\n",
       "   'meta': {'vector_id': '485'}}]}"
      ]
     },
     "execution_count": 9,
     "metadata": {},
     "output_type": "execute_result"
    }
   ],
   "source": [
    "pipeline.run(query='What does theoretical computer science cover?',\n",
    "             top_k_retriever=3)"
   ]
  },
  {
   "cell_type": "markdown",
   "id": "macro-philadelphia",
   "metadata": {},
   "source": [
    "And the `reader`:"
   ]
  },
  {
   "cell_type": "code",
   "execution_count": 10,
   "id": "logical-barbados",
   "metadata": {},
   "outputs": [
    {
     "name": "stderr",
     "output_type": "stream",
     "text": [
      "Creating Embeddings: 100%|██████████| 1/1 [00:00<00:00, 38.97 Batches/s]\n",
      "Inferencing Samples: 100%|██████████| 1/1 [00:00<00:00, 14.36 Batches/s]\n",
      "Inferencing Samples: 100%|██████████| 1/1 [00:00<00:00, 86.13 Batches/s]\n",
      "Inferencing Samples: 100%|██████████| 1/1 [00:00<00:00, 76.51 Batches/s]\n",
      "Inferencing Samples: 100%|██████████| 1/1 [00:00<00:00, 86.65 Batches/s]\n",
      "Inferencing Samples: 100%|██████████| 1/1 [00:00<00:00, 89.19 Batches/s]\n",
      "Inferencing Samples: 100%|██████████| 1/1 [00:00<00:00, 81.81 Batches/s]\n",
      "Inferencing Samples: 100%|██████████| 1/1 [00:00<00:00, 84.92 Batches/s]\n",
      "Inferencing Samples: 100%|██████████| 1/1 [00:00<00:00, 80.10 Batches/s]\n",
      "Inferencing Samples: 100%|██████████| 1/1 [00:00<00:00, 88.89 Batches/s]\n",
      "Inferencing Samples: 100%|██████████| 1/1 [00:00<00:00, 79.24 Batches/s]\n"
     ]
    },
    {
     "data": {
      "text/plain": [
       "{'query': 'What does theoretical computer science cover?',\n",
       " 'no_ans_gap': 6.868406772613525,\n",
       " 'answers': [{'answer': 'analysis of algorithms and computability theory',\n",
       "   'score': 13.122962951660156,\n",
       "   'probability': 0.8375853272849054,\n",
       "   'context': ' related fields in theoretical computer science are analysis of algorithms and computability theory. A key distinction between analysis of algorithms ',\n",
       "   'offset_start': 52,\n",
       "   'offset_end': 99,\n",
       "   'offset_start_in_doc': 59,\n",
       "   'offset_end_in_doc': 106,\n",
       "   'document_id': '285be3e8-24c2-43f3-bb09-04d0847a9c13',\n",
       "   'meta': {'vector_id': '177'}},\n",
       "  {'answer': 'Science of the Physical Universe',\n",
       "   'score': 6.1175031661987305,\n",
       "   'probability': 0.6823706602798535,\n",
       "   'context': 'l Reasoning, Ethical Reasoning, Science of Living Systems, Science of the Physical Universe, Societies of the World, and United States in the World. H',\n",
       "   'offset_start': 59,\n",
       "   'offset_end': 91,\n",
       "   'offset_start_in_doc': 556,\n",
       "   'offset_end_in_doc': 588,\n",
       "   'document_id': '9e69c72d-cc6b-4f61-a6ec-36f2007f0a43',\n",
       "   'meta': {'vector_id': '722'}},\n",
       "  {'answer': 'algorithmic problems',\n",
       "   'score': 4.288228988647461,\n",
       "   'probability': 0.630888091716119,\n",
       "   'context': 'fore the actual research explicitly devoted to the complexity of algorithmic problems started off, numerous foundations were laid out by various resea',\n",
       "   'offset_start': 65,\n",
       "   'offset_end': 85,\n",
       "   'offset_start_in_doc': 67,\n",
       "   'offset_end_in_doc': 87,\n",
       "   'document_id': '3889fec9-df9f-4d3f-a46d-39282dc9c2bd',\n",
       "   'meta': {'vector_id': '259'}}]}"
      ]
     },
     "execution_count": 10,
     "metadata": {},
     "output_type": "execute_result"
    }
   ],
   "source": [
    "pipeline.run(query='What does theoretical computer science cover?',\n",
    "             top_k_reader=3)"
   ]
  }
 ],
 "metadata": {
  "kernelspec": {
   "display_name": "ML",
   "language": "python",
   "name": "ml"
  },
  "language_info": {
   "codemirror_mode": {
    "name": "ipython",
    "version": 3
   },
   "file_extension": ".py",
   "mimetype": "text/x-python",
   "name": "python",
   "nbconvert_exporter": "python",
   "pygments_lexer": "ipython3",
   "version": "3.8.5"
  }
 },
 "nbformat": 4,
 "nbformat_minor": 5
}
