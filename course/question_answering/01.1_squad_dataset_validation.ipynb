{
 "cells": [
  {
   "cell_type": "markdown",
   "id": "secondary-conservation",
   "metadata": {},
   "source": [
    "# Validation Parse\n",
    "\n",
    "We previously downloaded the SQuAD validation dataset to *../../data/squad/dev-v2.0.json*. Here we apply the same parsing logic that we applied to our training data, to our validation data."
   ]
  },
  {
   "cell_type": "code",
   "execution_count": 1,
   "id": "variable-conjunction",
   "metadata": {},
   "outputs": [],
   "source": [
    "squad_dir = '../../data/squad'"
   ]
  },
  {
   "cell_type": "markdown",
   "id": "french-chamber",
   "metadata": {},
   "source": [
    "Lets open up the training data and confirm that is shares the same format as the training data."
   ]
  },
  {
   "cell_type": "code",
   "execution_count": 2,
   "id": "alpine-vampire",
   "metadata": {},
   "outputs": [],
   "source": [
    "import os\n",
    "import json\n",
    "\n",
    "with open(os.path.join(squad_dir, 'dev-v2.0.json'), 'rb') as f:\n",
    "    squad = json.load(f)"
   ]
  },
  {
   "cell_type": "markdown",
   "id": "portuguese-singing",
   "metadata": {},
   "source": [
    "As before, the JSON structure contains a top-level `'data'` key which contains a list of *groups*, where each group is a topic. We can take a look at a few examples from the start and end of the dataset."
   ]
  },
  {
   "cell_type": "code",
   "execution_count": 3,
   "id": "female-briefing",
   "metadata": {},
   "outputs": [
    {
     "data": {
      "text/plain": [
       "{'qas': [{'question': 'In what country is Normandy located?',\n",
       "   'id': '56ddde6b9a695914005b9628',\n",
       "   'answers': [{'text': 'France', 'answer_start': 159},\n",
       "    {'text': 'France', 'answer_start': 159},\n",
       "    {'text': 'France', 'answer_start': 159},\n",
       "    {'text': 'France', 'answer_start': 159}],\n",
       "   'is_impossible': False},\n",
       "  {'question': 'When were the Normans in Normandy?',\n",
       "   'id': '56ddde6b9a695914005b9629',\n",
       "   'answers': [{'text': '10th and 11th centuries', 'answer_start': 94},\n",
       "    {'text': 'in the 10th and 11th centuries', 'answer_start': 87},\n",
       "    {'text': '10th and 11th centuries', 'answer_start': 94},\n",
       "    {'text': '10th and 11th centuries', 'answer_start': 94}],\n",
       "   'is_impossible': False},\n",
       "  {'question': 'From which countries did the Norse originate?',\n",
       "   'id': '56ddde6b9a695914005b962a',\n",
       "   'answers': [{'text': 'Denmark, Iceland and Norway', 'answer_start': 256},\n",
       "    {'text': 'Denmark, Iceland and Norway', 'answer_start': 256},\n",
       "    {'text': 'Denmark, Iceland and Norway', 'answer_start': 256},\n",
       "    {'text': 'Denmark, Iceland and Norway', 'answer_start': 256}],\n",
       "   'is_impossible': False},\n",
       "  {'question': 'Who was the Norse leader?',\n",
       "   'id': '56ddde6b9a695914005b962b',\n",
       "   'answers': [{'text': 'Rollo', 'answer_start': 308},\n",
       "    {'text': 'Rollo', 'answer_start': 308},\n",
       "    {'text': 'Rollo', 'answer_start': 308},\n",
       "    {'text': 'Rollo', 'answer_start': 308}],\n",
       "   'is_impossible': False},\n",
       "  {'question': 'What century did the Normans first gain their separate identity?',\n",
       "   'id': '56ddde6b9a695914005b962c',\n",
       "   'answers': [{'text': '10th century', 'answer_start': 671},\n",
       "    {'text': 'the first half of the 10th century', 'answer_start': 649},\n",
       "    {'text': '10th', 'answer_start': 671},\n",
       "    {'text': '10th', 'answer_start': 671}],\n",
       "   'is_impossible': False},\n",
       "  {'plausible_answers': [{'text': 'Normans', 'answer_start': 4}],\n",
       "   'question': \"Who gave their name to Normandy in the 1000's and 1100's\",\n",
       "   'id': '5ad39d53604f3c001a3fe8d1',\n",
       "   'answers': [],\n",
       "   'is_impossible': True},\n",
       "  {'plausible_answers': [{'text': 'Normandy', 'answer_start': 137}],\n",
       "   'question': 'What is France a region of?',\n",
       "   'id': '5ad39d53604f3c001a3fe8d2',\n",
       "   'answers': [],\n",
       "   'is_impossible': True},\n",
       "  {'plausible_answers': [{'text': 'Rollo', 'answer_start': 308}],\n",
       "   'question': 'Who did King Charles III swear fealty to?',\n",
       "   'id': '5ad39d53604f3c001a3fe8d3',\n",
       "   'answers': [],\n",
       "   'is_impossible': True},\n",
       "  {'plausible_answers': [{'text': '10th century', 'answer_start': 671}],\n",
       "   'question': 'When did the Frankish identity emerge?',\n",
       "   'id': '5ad39d53604f3c001a3fe8d4',\n",
       "   'answers': [],\n",
       "   'is_impossible': True}],\n",
       " 'context': 'The Normans (Norman: Nourmands; French: Normands; Latin: Normanni) were the people who in the 10th and 11th centuries gave their name to Normandy, a region in France. They were descended from Norse (\"Norman\" comes from \"Norseman\") raiders and pirates from Denmark, Iceland and Norway who, under their leader Rollo, agreed to swear fealty to King Charles III of West Francia. Through generations of assimilation and mixing with the native Frankish and Roman-Gaulish populations, their descendants would gradually merge with the Carolingian-based cultures of West Francia. The distinct cultural and ethnic identity of the Normans emerged initially in the first half of the 10th century, and it continued to evolve over the succeeding centuries.'}"
      ]
     },
     "execution_count": 3,
     "metadata": {},
     "output_type": "execute_result"
    }
   ],
   "source": [
    "squad['data'][0]['paragraphs'][0]"
   ]
  },
  {
   "cell_type": "code",
   "execution_count": 4,
   "id": "acknowledged-execution",
   "metadata": {},
   "outputs": [
    {
     "data": {
      "text/plain": [
       "{'qas': [{'question': 'What concept did philosophers in antiquity use to study simple machines?',\n",
       "   'id': '573735e8c3c5551400e51e71',\n",
       "   'answers': [{'text': 'force', 'answer_start': 46},\n",
       "    {'text': 'force', 'answer_start': 46},\n",
       "    {'text': 'the concept of force', 'answer_start': 31},\n",
       "    {'text': 'the concept of force', 'answer_start': 31},\n",
       "    {'text': 'force', 'answer_start': 46},\n",
       "    {'text': 'force', 'answer_start': 46}],\n",
       "   'is_impossible': False},\n",
       "  {'question': 'What was the belief that maintaining motion required force?',\n",
       "   'id': '573735e8c3c5551400e51e72',\n",
       "   'answers': [{'text': 'fundamental error', 'answer_start': 387},\n",
       "    {'text': 'A fundamental error', 'answer_start': 385},\n",
       "    {'text': 'A fundamental error', 'answer_start': 385},\n",
       "    {'text': 'A fundamental error', 'answer_start': 385},\n",
       "    {'text': 'A fundamental error', 'answer_start': 385},\n",
       "    {'text': 'A fundamental error', 'answer_start': 385}],\n",
       "   'is_impossible': False},\n",
       "  {'question': 'Who had mathmatical insite?',\n",
       "   'id': '573735e8c3c5551400e51e73',\n",
       "   'answers': [{'text': 'Sir Isaac Newton', 'answer_start': 654},\n",
       "    {'text': 'Sir Isaac Newton', 'answer_start': 654},\n",
       "    {'text': 'Sir Isaac Newton', 'answer_start': 654},\n",
       "    {'text': 'Sir Isaac Newton', 'answer_start': 654},\n",
       "    {'text': 'Sir Isaac Newton', 'answer_start': 654},\n",
       "    {'text': 'Sir Isaac Newton', 'answer_start': 654}],\n",
       "   'is_impossible': False},\n",
       "  {'question': \"How long did it take to improve on Sir Isaac Newton's laws of motion?\",\n",
       "   'id': '573735e8c3c5551400e51e74',\n",
       "   'answers': [{'text': 'nearly three hundred years', 'answer_start': 727},\n",
       "    {'text': 'nearly three hundred years', 'answer_start': 727},\n",
       "    {'text': 'nearly three hundred years', 'answer_start': 727},\n",
       "    {'text': 'nearly three hundred years', 'answer_start': 727},\n",
       "    {'text': 'nearly three hundred years', 'answer_start': 727},\n",
       "    {'text': 'three hundred years', 'answer_start': 734}],\n",
       "   'is_impossible': False},\n",
       "  {'question': 'Who develped the theory of relativity?',\n",
       "   'id': '573735e8c3c5551400e51e75',\n",
       "   'answers': [{'text': 'Einstein', 'answer_start': 782},\n",
       "    {'text': 'Einstein', 'answer_start': 782},\n",
       "    {'text': 'Einstein', 'answer_start': 782},\n",
       "    {'text': 'Einstein', 'answer_start': 782},\n",
       "    {'text': 'Einstein', 'answer_start': 782},\n",
       "    {'text': 'Einstein', 'answer_start': 782}],\n",
       "   'is_impossible': False},\n",
       "  {'plausible_answers': [{'text': 'Philosophers', 'answer_start': 0}],\n",
       "   'question': 'Who used the concept of antiquity in the study of stationary and moving objects?',\n",
       "   'id': '5ad25efad7d075001a428f56',\n",
       "   'answers': [],\n",
       "   'is_impossible': True},\n",
       "  {'plausible_answers': [{'text': 'motion', 'answer_start': 377}],\n",
       "   'question': 'Something that is considered a non fundamental error is the belief that a force is required to maintain what?',\n",
       "   'id': '5ad25efad7d075001a428f57',\n",
       "   'answers': [],\n",
       "   'is_impossible': True},\n",
       "  {'plausible_answers': [{'text': 'Galileo Galilei and Sir Isaac Newton',\n",
       "     'answer_start': 585}],\n",
       "   'question': 'Most of the previous understandings about motion and force were corrected by whom?',\n",
       "   'id': '5ad25efad7d075001a428f58',\n",
       "   'answers': [],\n",
       "   'is_impossible': True},\n",
       "  {'plausible_answers': [{'text': 'motion and force', 'answer_start': 539}],\n",
       "   'question': 'Sir Galileo Galilei corrected the previous misunderstandings about what?',\n",
       "   'id': '5ad25efad7d075001a428f59',\n",
       "   'answers': [],\n",
       "   'is_impossible': True},\n",
       "  {'plausible_answers': [{'text': 'Sir Isaac Newton', 'answer_start': 654}],\n",
       "   'question': 'Who formulated the laws of motion that were not improved-on for nearly three thousand years?',\n",
       "   'id': '5ad25efad7d075001a428f5a',\n",
       "   'answers': [],\n",
       "   'is_impossible': True}],\n",
       " 'context': 'Philosophers in antiquity used the concept of force in the study of stationary and moving objects and simple machines, but thinkers such as Aristotle and Archimedes retained fundamental errors in understanding force. In part this was due to an incomplete understanding of the sometimes non-obvious force of friction, and a consequently inadequate view of the nature of natural motion. A fundamental error was the belief that a force is required to maintain motion, even at a constant velocity. Most of the previous misunderstandings about motion and force were eventually corrected by Galileo Galilei and Sir Isaac Newton. With his mathematical insight, Sir Isaac Newton formulated laws of motion that were not improved-on for nearly three hundred years. By the early 20th century, Einstein developed a theory of relativity that correctly predicted the action of forces on objects with increasing momenta near the speed of light, and also provided insight into the forces produced by gravitation and inertia.'}"
      ]
     },
     "execution_count": 4,
     "metadata": {},
     "output_type": "execute_result"
    }
   ],
   "source": [
    "squad['data'][-1]['paragraphs'][0]"
   ]
  },
  {
   "cell_type": "markdown",
   "id": "magnetic-produce",
   "metadata": {},
   "source": [
    "We can see that both `'answers'` and `'plausible_answers'` fields appear in this dataset too. However this time, we can see multiple answers that seem to be duplicates - so we'll need to adjust our logic to deal with that.\n",
    "\n",
    "We'll try and produce the same format as we previously built where we have a list of dictionaries where each dictionary contains a single `question`, `answer`, and `context`.\n",
    "\n",
    "If we find duplicates in the *answers* lists, we should remove them."
   ]
  },
  {
   "cell_type": "code",
   "execution_count": 5,
   "id": "serial-addiction",
   "metadata": {},
   "outputs": [],
   "source": [
    "# initialize list where we will place all of our data\n",
    "new_squad = []\n",
    "\n",
    "# we need to loop through groups -> paragraphs -> qa_pairs\n",
    "for group in squad['data']:\n",
    "    for paragraph in group['paragraphs']:\n",
    "        # we pull out the context from here\n",
    "        context = paragraph['context']\n",
    "        for qa_pair in paragraph['qas']:\n",
    "            # we pull out the question\n",
    "            question = qa_pair['question']\n",
    "            # now the logic to check if we have 'answers' or 'plausible_answers'\n",
    "            if 'answers' in qa_pair.keys() and len(qa_pair['answers']) > 0:\n",
    "                answer_list = qa_pair['answers']\n",
    "            elif 'plausible_answers' in qa_pair.keys() and len(qa_pair['plausible_answers']) > 0:\n",
    "                answer_list = qa_pair['plausible_answers']\n",
    "            else:\n",
    "                # this shouldn't happen, but just in case we just set answer = []\n",
    "                answer_list = []\n",
    "            # we want to pull our the 'text' of each answer in our list of answers\n",
    "            answer_list = [item['text'] for item in answer_list]\n",
    "            # we can remove duplicate answers by converting our list to a set, and then back to a list\n",
    "            answer_list = list(set(answer_list))\n",
    "            # we iterate through each unique answer in the answer_list\n",
    "            for answer in answer_list:\n",
    "                # append dictionary sample to parsed squad\n",
    "                new_squad.append({\n",
    "                    'question': question,\n",
    "                    'answer': answer,\n",
    "                    'context': context\n",
    "                })"
   ]
  },
  {
   "cell_type": "code",
   "execution_count": 6,
   "id": "charged-istanbul",
   "metadata": {},
   "outputs": [
    {
     "data": {
      "text/plain": [
       "([{'question': 'In what country is Normandy located?',\n",
       "   'answer': 'France',\n",
       "   'context': 'The Normans (Norman: Nourmands; French: Normands; Latin: Normanni) were the people who in the 10th and 11th centuries gave their name to Normandy, a region in France. They were descended from Norse (\"Norman\" comes from \"Norseman\") raiders and pirates from Denmark, Iceland and Norway who, under their leader Rollo, agreed to swear fealty to King Charles III of West Francia. Through generations of assimilation and mixing with the native Frankish and Roman-Gaulish populations, their descendants would gradually merge with the Carolingian-based cultures of West Francia. The distinct cultural and ethnic identity of the Normans emerged initially in the first half of the 10th century, and it continued to evolve over the succeeding centuries.'},\n",
       "  {'question': 'When were the Normans in Normandy?',\n",
       "   'answer': 'in the 10th and 11th centuries',\n",
       "   'context': 'The Normans (Norman: Nourmands; French: Normands; Latin: Normanni) were the people who in the 10th and 11th centuries gave their name to Normandy, a region in France. They were descended from Norse (\"Norman\" comes from \"Norseman\") raiders and pirates from Denmark, Iceland and Norway who, under their leader Rollo, agreed to swear fealty to King Charles III of West Francia. Through generations of assimilation and mixing with the native Frankish and Roman-Gaulish populations, their descendants would gradually merge with the Carolingian-based cultures of West Francia. The distinct cultural and ethnic identity of the Normans emerged initially in the first half of the 10th century, and it continued to evolve over the succeeding centuries.'},\n",
       "  {'question': 'When were the Normans in Normandy?',\n",
       "   'answer': '10th and 11th centuries',\n",
       "   'context': 'The Normans (Norman: Nourmands; French: Normands; Latin: Normanni) were the people who in the 10th and 11th centuries gave their name to Normandy, a region in France. They were descended from Norse (\"Norman\" comes from \"Norseman\") raiders and pirates from Denmark, Iceland and Norway who, under their leader Rollo, agreed to swear fealty to King Charles III of West Francia. Through generations of assimilation and mixing with the native Frankish and Roman-Gaulish populations, their descendants would gradually merge with the Carolingian-based cultures of West Francia. The distinct cultural and ethnic identity of the Normans emerged initially in the first half of the 10th century, and it continued to evolve over the succeeding centuries.'}],\n",
       " [{'question': 'What force leads to a commonly used unit of mass?',\n",
       "   'answer': 'kilogram-force',\n",
       "   'context': 'The pound-force has a metric counterpart, less commonly used than the newton: the kilogram-force (kgf) (sometimes kilopond), is the force exerted by standard gravity on one kilogram of mass. The kilogram-force leads to an alternate, but rarely used unit of mass: the metric slug (sometimes mug or hyl) is that mass that accelerates at 1 m·s−2 when subjected to a force of 1 kgf. The kilogram-force is not a part of the modern SI system, and is generally deprecated; however it still sees use for some purposes as expressing aircraft weight, jet thrust, bicycle spoke tension, torque wrench settings and engine output torque. Other arcane units of force include the sthène, which is equivalent to 1000 N, and the kip, which is equivalent to 1000 lbf.'},\n",
       "  {'question': 'What force is part of the modern SI system?',\n",
       "   'answer': 'kilogram-force',\n",
       "   'context': 'The pound-force has a metric counterpart, less commonly used than the newton: the kilogram-force (kgf) (sometimes kilopond), is the force exerted by standard gravity on one kilogram of mass. The kilogram-force leads to an alternate, but rarely used unit of mass: the metric slug (sometimes mug or hyl) is that mass that accelerates at 1 m·s−2 when subjected to a force of 1 kgf. The kilogram-force is not a part of the modern SI system, and is generally deprecated; however it still sees use for some purposes as expressing aircraft weight, jet thrust, bicycle spoke tension, torque wrench settings and engine output torque. Other arcane units of force include the sthène, which is equivalent to 1000 N, and the kip, which is equivalent to 1000 lbf.'}])"
      ]
     },
     "execution_count": 6,
     "metadata": {},
     "output_type": "execute_result"
    }
   ],
   "source": [
    "new_squad[:3], new_squad[-2:]"
   ]
  },
  {
   "cell_type": "markdown",
   "id": "academic-element",
   "metadata": {},
   "source": [
    "At indices *1* and *2* we can see an example of where our new logic which loops through each answer in the `'answers'`/`'plausible_answers'` list has been used for the question *'When were the Normans in Normandy'*. We can save our parsed data to file as a JSON like so:"
   ]
  },
  {
   "cell_type": "code",
   "execution_count": 7,
   "id": "referenced-strip",
   "metadata": {},
   "outputs": [],
   "source": [
    "with open(os.path.join(squad_dir, 'dev.json'), 'w') as f:\n",
    "    json.dump(new_squad, f)"
   ]
  }
 ],
 "metadata": {
  "kernelspec": {
   "display_name": "ML",
   "language": "python",
   "name": "ml"
  },
  "language_info": {
   "codemirror_mode": {
    "name": "ipython",
    "version": 3
   },
   "file_extension": ".py",
   "mimetype": "text/x-python",
   "name": "python",
   "nbconvert_exporter": "python",
   "pygments_lexer": "ipython3",
   "version": "3.8.5"
  }
 },
 "nbformat": 4,
 "nbformat_minor": 5
}
