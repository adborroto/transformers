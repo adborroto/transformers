{
 "cells": [
  {
   "cell_type": "markdown",
   "metadata": {},
   "source": [
    "# FAISS With Haystack\n",
    "\n",
    "FAISS is unfortunately **not** presently supported on Windows, so if you are on Windows then you will need to stick with Elasticsearch. If you have access to Linux or Mac then continue.\n",
    "\n",
    "We'll be using Haystack again, so fortunately setup is very straight-forward. We first import and initialize a FAISS document store using a very similiar logic to what we used before - but this time we will be storing the FAISS index locally.\n",
    "\n",
    "Storing the index locally means that we will need two files, a SQLite database, and the FAISS index. We create the FAISS index later, but we create the SQLite database on initialization.\n",
    "\n",
    "We will store both in the `models` directory, but adjust this to your own needs."
   ]
  },
  {
   "cell_type": "code",
   "execution_count": 1,
   "metadata": {},
   "outputs": [],
   "source": [
    "path = '../../models/faiss'\n",
    "\n",
    "import os\n",
    "\n",
    "if not os.path.exists(path):\n",
    "    os.makedirs(path)"
   ]
  },
  {
   "cell_type": "markdown",
   "metadata": {},
   "source": [
    "And now we include this path within a SQLite database location string in the following document store initialization."
   ]
  },
  {
   "cell_type": "code",
   "execution_count": 2,
   "metadata": {},
   "outputs": [
    {
     "name": "stderr",
     "output_type": "stream",
     "text": [
      "03/27/2021 10:40:51 - INFO - faiss -   Loading faiss with AVX2 support.\n",
      "03/27/2021 10:40:51 - INFO - faiss -   Loading faiss.\n"
     ]
    }
   ],
   "source": [
    "from haystack.document_store.faiss import FAISSDocumentStore\n",
    "\n",
    "# initialize FAISS\n",
    "document_store = FAISSDocumentStore(\n",
    "    faiss_index_factory_str='Flat',\n",
    "    sql_url=f'sqlite:///{path}/squad_dev.db',\n",
    "    return_embedding=True\n",
    ")"
   ]
  },
  {
   "cell_type": "markdown",
   "metadata": {},
   "source": [
    "Next, we load our validation data from file, which we will be adding to the FAISS index."
   ]
  },
  {
   "cell_type": "code",
   "execution_count": 3,
   "metadata": {},
   "outputs": [],
   "source": [
    "import json\n",
    "\n",
    "with open('../../data/squad/dev.json', 'r') as f:\n",
    "    squad = json.load(f)"
   ]
  },
  {
   "cell_type": "markdown",
   "metadata": {},
   "source": [
    "## Adding Data\n",
    "\n",
    "As we saw with Elasticsearch, our current FAISS index has been initialized but contains nothing. Now we need to populate the index with our *dev.json* data. \n",
    "\n",
    "This time, we'll be making use of the Haystack `Document` object. Which we import with:"
   ]
  },
  {
   "cell_type": "code",
   "execution_count": 4,
   "metadata": {},
   "outputs": [],
   "source": [
    "from haystack import Document"
   ]
  },
  {
   "cell_type": "markdown",
   "metadata": {},
   "source": [
    "This object prepares our data into the correct object format for our document stores - which in this case is FAISS.\n",
    "\n",
    "As before where we had a dictionary with two keys `'text'` and `'meta'`, the *Document* object provides two corresponding arguments, `text` and `meta`. So rather than using the format we used before which looked like:\n",
    "\n",
    "```json\n",
    "{\n",
    "    'text': '<document text here>',\n",
    "    'meta': {\n",
    "        'other': '<other info here>'\n",
    "    }\n",
    "}\n",
    "```\n",
    "\n",
    "We will be using this *Document* object format instead:\n",
    "\n",
    "```python\n",
    "Document(\n",
    "    text='<document text here>',\n",
    "    meta={\n",
    "        'other': '<other info here>'\n",
    "    }\n",
    ")\n",
    "```\n",
    "\n",
    "Just like before, we will be feeding these *Document* objects into a list, which we will then feed into our FAISS `write_documents` method. Remember, our dataset contains duplicate contexts, so we must remove them first using `list(set(...))`."
   ]
  },
  {
   "cell_type": "code",
   "execution_count": 5,
   "metadata": {},
   "outputs": [],
   "source": [
    "# create list of contexts\n",
    "contexts = [sample['context'] for sample in squad]\n",
    "\n",
    "# remove duplicates\n",
    "contexts = list(set(contexts))\n",
    "\n",
    "# create list of Document objects\n",
    "squad_docs = [Document(text=sample) for sample in contexts]"
   ]
  },
  {
   "cell_type": "markdown",
   "metadata": {},
   "source": [
    "Now, because we're storing our FAISS index on file, we may find (if running this script more than once) that we first need to delete any documents that already exist in the index."
   ]
  },
  {
   "cell_type": "code",
   "execution_count": 6,
   "metadata": {},
   "outputs": [],
   "source": [
    "document_store.delete_all_documents()"
   ]
  },
  {
   "cell_type": "markdown",
   "metadata": {},
   "source": [
    "Then we add the data to the index just like before:"
   ]
  },
  {
   "cell_type": "code",
   "execution_count": 7,
   "metadata": {},
   "outputs": [],
   "source": [
    "document_store.write_documents(squad_docs)"
   ]
  },
  {
   "cell_type": "markdown",
   "metadata": {},
   "source": [
    "The way that our documents are indexed will depend on the embedding model being used by our retriever. So, we need to initialize our DPR model (the retriever), and then `update_embeddings` using this retriever."
   ]
  },
  {
   "cell_type": "code",
   "execution_count": 8,
   "metadata": {},
   "outputs": [
    {
     "name": "stderr",
     "output_type": "stream",
     "text": [
      "03/27/2021 10:41:05 - INFO - haystack.document_store.faiss -   Updating embeddings for 1204 docs...\n",
      "  0%|          | 0/1204 [00:00<?, ?it/s]\n",
      "Creating Embeddings:   0%|          | 0/76 [00:00<?, ? Batches/s]\u001b[A\n",
      "Creating Embeddings:   1%|▏         | 1/76 [00:00<00:27,  2.73 Batches/s]\u001b[A\n",
      "Creating Embeddings:   5%|▌         | 4/76 [00:00<00:19,  3.70 Batches/s]\u001b[A\n",
      "Creating Embeddings:   9%|▉         | 7/76 [00:00<00:13,  4.95 Batches/s]\u001b[A\n",
      "Creating Embeddings:  13%|█▎        | 10/76 [00:00<00:10,  6.48 Batches/s]\u001b[A\n",
      "Creating Embeddings:  17%|█▋        | 13/76 [00:00<00:07,  8.29 Batches/s]\u001b[A\n",
      "Creating Embeddings:  21%|██        | 16/76 [00:01<00:05, 10.30 Batches/s]\u001b[A\n",
      "Creating Embeddings:  25%|██▌       | 19/76 [00:01<00:04, 12.41 Batches/s]\u001b[A\n",
      "Creating Embeddings:  29%|██▉       | 22/76 [00:01<00:03, 14.50 Batches/s]\u001b[A\n",
      "Creating Embeddings:  33%|███▎      | 25/76 [00:01<00:03, 16.40 Batches/s]\u001b[A\n",
      "Creating Embeddings:  37%|███▋      | 28/76 [00:01<00:02, 17.98 Batches/s]\u001b[A\n",
      "Creating Embeddings:  41%|████      | 31/76 [00:01<00:02, 19.28 Batches/s]\u001b[A\n",
      "Creating Embeddings:  45%|████▍     | 34/76 [00:01<00:02, 20.37 Batches/s]\u001b[A\n",
      "Creating Embeddings:  49%|████▊     | 37/76 [00:01<00:01, 21.28 Batches/s]\u001b[A\n",
      "Creating Embeddings:  53%|█████▎    | 40/76 [00:02<00:01, 21.89 Batches/s]\u001b[A\n",
      "Creating Embeddings:  57%|█████▋    | 43/76 [00:02<00:01, 22.26 Batches/s]\u001b[A\n",
      "Creating Embeddings:  61%|██████    | 46/76 [00:02<00:01, 22.61 Batches/s]\u001b[A\n",
      "Creating Embeddings:  64%|██████▍   | 49/76 [00:02<00:01, 22.88 Batches/s]\u001b[A\n",
      "Creating Embeddings:  68%|██████▊   | 52/76 [00:02<00:01, 22.94 Batches/s]\u001b[A\n",
      "Creating Embeddings:  72%|███████▏  | 55/76 [00:02<00:00, 23.04 Batches/s]\u001b[A\n",
      "Creating Embeddings:  76%|███████▋  | 58/76 [00:02<00:00, 23.22 Batches/s]\u001b[A\n",
      "Creating Embeddings:  80%|████████  | 61/76 [00:02<00:00, 23.26 Batches/s]\u001b[A\n",
      "Creating Embeddings:  84%|████████▍ | 64/76 [00:03<00:00, 23.43 Batches/s]\u001b[A\n",
      "Creating Embeddings:  88%|████████▊ | 67/76 [00:03<00:00, 23.35 Batches/s]\u001b[A\n",
      "Creating Embeddings:  92%|█████████▏| 70/76 [00:03<00:00, 23.39 Batches/s]\u001b[A\n",
      "Creating Embeddings:  96%|█████████▌| 73/76 [00:03<00:00, 23.53 Batches/s]\u001b[A\n",
      "Creating Embeddings: 100%|██████████| 76/76 [00:03<00:00, 21.46 Batches/s]\u001b[A\n",
      "10000it [00:04, 2070.99it/s]            \n"
     ]
    }
   ],
   "source": [
    "from haystack.retriever.dense import DensePassageRetriever\n",
    "\n",
    "retriever = DensePassageRetriever(\n",
    "    document_store=document_store,\n",
    "    query_embedding_model='facebook/dpr-question_encoder-single-nq-base',\n",
    "    passage_embedding_model='facebook/dpr-ctx_encoder-single-nq-base',\n",
    "    use_gpu=True,\n",
    "    embed_title=True\n",
    ")\n",
    "\n",
    "document_store.update_embeddings(retriever=retriever)"
   ]
  },
  {
   "cell_type": "markdown",
   "metadata": {},
   "source": [
    "Now that we've fully prepared our document store, we can save it. We will save to the same location we saved our SQLite database, but this time we will be using the *.faiss* filetype."
   ]
  },
  {
   "cell_type": "code",
   "execution_count": 9,
   "metadata": {},
   "outputs": [],
   "source": [
    "document_store.save(f'{path}/squad_dev.faiss')"
   ]
  },
  {
   "cell_type": "markdown",
   "metadata": {},
   "source": [
    "Our FAISS index is now saved to file! We'll go ahead and delete the `document_store` and `retriever`, and try reinitializing both using the data we've saved to file."
   ]
  },
  {
   "cell_type": "code",
   "execution_count": 10,
   "metadata": {},
   "outputs": [],
   "source": [
    "del document_store, retriever"
   ]
  },
  {
   "cell_type": "markdown",
   "metadata": {},
   "source": [
    "All we do now is apply the `load` method directly from `FAISSDocumentStore`, including both the FAISS index location, and SQLite database location:"
   ]
  },
  {
   "cell_type": "code",
   "execution_count": 11,
   "metadata": {},
   "outputs": [],
   "source": [
    "document_store = FAISSDocumentStore.load(f'{path}/squad_dev.faiss', f'sqlite:///{path}/squad_dev.db')"
   ]
  },
  {
   "cell_type": "markdown",
   "metadata": {},
   "source": [
    "And now we can re-initialize our retriever, using the same arguments as before."
   ]
  },
  {
   "cell_type": "code",
   "execution_count": 12,
   "metadata": {},
   "outputs": [],
   "source": [
    "retriever = DensePassageRetriever(\n",
    "    document_store=document_store,\n",
    "    query_embedding_model='facebook/dpr-question_encoder-single-nq-base',\n",
    "    passage_embedding_model='facebook/dpr-ctx_encoder-single-nq-base',\n",
    "    use_gpu=True,\n",
    "    embed_title=True\n",
    ")"
   ]
  },
  {
   "cell_type": "markdown",
   "metadata": {},
   "source": [
    "Finally, we can begin retrieving relevant contexts to our questions using `retriever.retrieve`, which requires a single argument, `query`."
   ]
  },
  {
   "cell_type": "code",
   "execution_count": 13,
   "metadata": {},
   "outputs": [
    {
     "name": "stderr",
     "output_type": "stream",
     "text": [
      "Creating Embeddings: 100%|██████████| 1/1 [00:00<00:00, 98.28 Batches/s]\n"
     ]
    },
    {
     "data": {
      "text/plain": [
       "[{'text': \"A Turing machine is a mathematical model of a general computing machine. It is a theoretical device that manipulates symbols contained on a strip of tape. Turing machines are not intended as a practical computing technology, but rather as a thought experiment representing a computing machine—anything from an advanced supercomputer to a mathematician with a pencil and paper. It is believed that if a problem can be solved by an algorithm, there exists a Turing machine that solves the problem. Indeed, this is the statement of the Church–Turing thesis. Furthermore, it is known that everything that can be computed on other models of computation known to us today, such as a RAM machine, Conway's Game of Life, cellular automata or any programming language can be computed on a Turing machine. Since Turing machines are easy to analyze mathematically, and are believed to be as powerful as any other model of computation, the Turing machine is the most commonly used model in complexity theory.\", 'id': '9cebf642-4ee3-48f2-a4af-ee89c1c7e16b', 'score': 67.50412, 'probability': 0.6626310472550551, 'question': None, 'meta': {'vector_id': '717'}, 'embedding': None},\n",
       " {'text': 'Philosophers in antiquity used the concept of force in the study of stationary and moving objects and simple machines, but thinkers such as Aristotle and Archimedes retained fundamental errors in understanding force. In part this was due to an incomplete understanding of the sometimes non-obvious force of friction, and a consequently inadequate view of the nature of natural motion. A fundamental error was the belief that a force is required to maintain motion, even at a constant velocity. Most of the previous misunderstandings about motion and force were eventually corrected by Galileo Galilei and Sir Isaac Newton. With his mathematical insight, Sir Isaac Newton formulated laws of motion that were not improved-on for nearly three hundred years. By the early 20th century, Einstein developed a theory of relativity that correctly predicted the action of forces on objects with increasing momenta near the speed of light, and also provided insight into the forces produced by gravitation and inertia.', 'id': 'e1884f76-6b40-4486-87a6-ea507653a4a6', 'score': 66.54835, 'probability': 0.6604910971246508, 'question': None, 'meta': {'vector_id': '1057'}, 'embedding': None},\n",
       " {'text': 'When considering computational problems, a problem instance is a string over an alphabet. Usually, the alphabet is taken to be the binary alphabet (i.e., the set {0,1}), and thus the strings are bitstrings. As in a real-world computer, mathematical objects other than bitstrings must be suitably encoded. For example, integers can be represented in binary notation, and graphs can be encoded directly via their adjacency matrices, or by encoding their adjacency lists in binary.', 'id': '1512e3ce-33ba-46e7-8e65-9e6884b02ad8', 'score': 66.29032, 'probability': 0.6599122532343813, 'question': None, 'meta': {'vector_id': '85'}, 'embedding': None},\n",
       " {'text': 'Closely related fields in theoretical computer science are analysis of algorithms and computability theory. A key distinction between analysis of algorithms and computational complexity theory is that the former is devoted to analyzing the amount of resources needed by a particular algorithm to solve a problem, whereas the latter asks a more general question about all possible algorithms that could be used to solve the same problem. More precisely, it tries to classify problems that can or cannot be solved with appropriately restricted resources. In turn, imposing restrictions on the available resources is what distinguishes computational complexity from computability theory: the latter theory asks what kind of problems can, in principle, be solved algorithmically.', 'id': '285be3e8-24c2-43f3-bb09-04d0847a9c13', 'score': 66.07611, 'probability': 0.6594313401654437, 'question': None, 'meta': {'vector_id': '177'}, 'embedding': None},\n",
       " {'text': 'Aristotle provided a philosophical discussion of the concept of a force as an integral part of Aristotelian cosmology. In Aristotle\\'s view, the terrestrial sphere contained four elements that come to rest at different \"natural places\" therein. Aristotle believed that motionless objects on Earth, those composed mostly of the elements earth and water, to be in their natural place on the ground and that they will stay that way if left alone. He distinguished between the innate tendency of objects to find their \"natural place\" (e.g., for heavy bodies to fall), which led to \"natural motion\", and unnatural or forced motion, which required continued application of a force. This theory, based on the everyday experience of how objects move, such as the constant application of a force needed to keep a cart moving, had conceptual trouble accounting for the behavior of projectiles, such as the flight of arrows. The place where the archer moves the projectile was at the start of the flight, and while the projectile sailed through the air, no discernible efficient cause acts on it. Aristotle was aware of this problem and proposed that the air displaced through the projectile\\'s path carries the projectile to its target. This explanation demands a continuum like air for change of place in general.', 'id': '5b600968-8059-4a1d-8428-60f3652e3da4', 'score': 66.03581, 'probability': 0.6593408314018334, 'question': None, 'meta': {'vector_id': '421'}, 'embedding': None},\n",
       " {'text': 'The notion \"force\" keeps its meaning in quantum mechanics, though one is now dealing with operators instead of classical variables and though the physics is now described by the Schrödinger equation instead of Newtonian equations. This has the consequence that the results of a measurement are now sometimes \"quantized\", i.e. they appear in discrete portions. This is, of course, difficult to imagine in the context of \"forces\". However, the potentials V(x,y,z) or fields, from which the forces generally can be derived, are treated similar to classical position variables, i.e., .', 'id': '45300ac1-f834-40b1-bdae-4215b1795940', 'score': 65.669785, 'probability': 0.6585182156029288, 'question': None, 'meta': {'vector_id': '321'}, 'embedding': None},\n",
       " {'text': 'In 1846, the natural history lectures of Louis Agassiz were acclaimed both in New York and on the campus at Harvard College. Agassiz\\'s approach was distinctly idealist and posited Americans\\' \"participation in the Divine Nature\" and the possibility of understanding \"intellectual existences\". Agassiz\\'s perspective on science combined observation with intuition and the assumption that a person can grasp the \"divine plan\" in all phenomena. When it came to explaining life-forms, Agassiz resorted to matters of shape based on a presumed archetype for his evidence. This dual view of knowledge was in concert with the teachings of Common Sense Realism derived from Scottish philosophers Thomas Reid and Dugald Stewart, whose works were part of the Harvard curriculum at the time. The popularity of Agassiz\\'s efforts to \"soar with Plato\" probably also derived from other writings to which Harvard students were exposed, including Platonic treatises by Ralph Cudworth, John Norrisand, in a Romantic vein, Samuel Coleridge. The library records at Harvard reveal that the writings of Plato and his early modern and Romantic followers were almost as regularly read during the 19th century as those of the \"official philosophy\" of the more empirical and more deistic Scottish school.', 'id': '56b7b535-1a89-47ba-b3d6-16427ff3e480', 'score': 65.47013, 'probability': 0.6580691085639723, 'question': None, 'meta': {'vector_id': '408'}, 'embedding': None},\n",
       " {'text': 'The origin of electric and magnetic fields would not be fully explained until 1864 when James Clerk Maxwell unified a number of earlier theories into a set of 20 scalar equations, which were later reformulated into 4 vector equations by Oliver Heaviside and Josiah Willard Gibbs. These \"Maxwell Equations\" fully described the sources of the fields as being stationary and moving charges, and the interactions of the fields themselves. This led Maxwell to discover that electric and magnetic fields could be \"self-generating\" through a wave that traveled at a speed that he calculated to be the speed of light. This insight united the nascent fields of electromagnetic theory with optics and led directly to a complete description of the electromagnetic spectrum.', 'id': '99b43445-c3a6-4703-965c-d2169fd9c318', 'score': 65.29824, 'probability': 0.6576822261245442, 'question': None, 'meta': {'vector_id': '702'}, 'embedding': None},\n",
       " {'text': 'Computational complexity theory is a branch of the theory of computation in theoretical computer science that focuses on classifying computational problems according to their inherent difficulty, and relating those classes to each other. A computational problem is understood to be a task that is in principle amenable to being solved by a computer, which is equivalent to stating that the problem may be solved by mechanical application of mathematical steps, such as an algorithm.', 'id': '674e2d0f-7690-4145-96e0-bedcb2d26413', 'score': 64.8923, 'probability': 0.6567677299758283, 'question': None, 'meta': {'vector_id': '485'}, 'embedding': None},\n",
       " {'text': 'The development of fundamental theories for forces proceeded along the lines of unification of disparate ideas. For example, Isaac Newton unified the force responsible for objects falling at the surface of the Earth with the force responsible for the orbits of celestial mechanics in his universal theory of gravitation. Michael Faraday and James Clerk Maxwell demonstrated that electric and magnetic forces were unified through one consistent theory of electromagnetism. In the 20th century, the development of quantum mechanics led to a modern understanding that the first three fundamental forces (all except gravity) are manifestations of matter (fermions) interacting by exchanging virtual particles called gauge bosons. This standard model of particle physics posits a similarity between the forces and led scientists to predict the unification of the weak and electromagnetic forces in electroweak theory subsequently confirmed by observation. The complete formulation of the standard model predicts an as yet unobserved Higgs mechanism, but observations such as neutrino oscillations indicate that the standard model is incomplete. A Grand Unified Theory allowing for the combination of the electroweak interaction with the strong force is held out as a possibility with candidate theories such as supersymmetry proposed to accommodate some of the outstanding unsolved problems in physics. Physicists are still attempting to develop self-consistent unification models that would combine all four fundamental interactions into a theory of everything. Einstein tried and failed at this endeavor, but currently the most popular approach to answering this question is string theory.:212–219', 'id': '8b84a7dc-b4f0-464a-97ce-2c2efb720a9c', 'score': 64.53554, 'probability': 0.6559630455891323, 'question': None, 'meta': {'vector_id': '634'}, 'embedding': None}]"
      ]
     },
     "execution_count": 13,
     "metadata": {},
     "output_type": "execute_result"
    }
   ],
   "source": [
    "retriever.retrieve('What subject is most abstract?')"
   ]
  },
  {
   "cell_type": "markdown",
   "metadata": {},
   "source": [
    "And now we've extracted a few contexts stored within FAISS, that our DPR model believes answers our query."
   ]
  }
 ],
 "metadata": {
  "kernelspec": {
   "display_name": "ML",
   "language": "python",
   "name": "ml"
  },
  "language_info": {
   "codemirror_mode": {
    "name": "ipython",
    "version": 3
   },
   "file_extension": ".py",
   "mimetype": "text/x-python",
   "name": "python",
   "nbconvert_exporter": "python",
   "pygments_lexer": "ipython3",
   "version": "3.8.5"
  }
 },
 "nbformat": 4,
 "nbformat_minor": 4
}
