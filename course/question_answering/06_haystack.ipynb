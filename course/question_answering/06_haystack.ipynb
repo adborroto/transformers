{
 "cells": [
  {
   "cell_type": "markdown",
   "metadata": {},
   "source": [
    "# Haystack\n",
    "\n",
    "In almost every use-case imaginable, when we ask a ML model a question, we're probably not going to be providing it with a context containing an answer - as we have been doing so far. Instead, we would be expecting to provide a question, and the model return us an answer either from an external data source, or the model's own *memory* gained during training.\n",
    "\n",
    "The first example of using an external data source is the most common and typically wields the widest set of benefits. So, over the next few notebooks we will be exploring and implementing this architecture, which we can see as the left-most architecture (reader-retriever) below:\n",
    "\n",
    "![Q&A Architectures](../../assets/images/qa_model_architectures.png)\n",
    "\n",
    "We've already built a **Reader** Q&A model, so now what we will be exploring is the **Retriever** - before integrating both to create our first reader-retriever Q&A model.\n",
    "\n",
    "Building all of this can be difficult, but we can make our lives much easier by using the [Haystack](https://github.com/deepset-ai/haystack/) library by Deepset.AI, which is a python library that allows us to perform ['Neural Question Answering at Scale'](https://haystack.deepset.ai/).\n",
    "\n",
    "There are two different *retriever* approaches that we will be exploring:\n",
    "\n",
    "* ElasticSearch with a sparse vector retriever\n",
    "\n",
    "* FAISS (Facebook AI Similarity Search) with DPR (dense passage retriever)\n",
    "\n",
    "The second of those, **FAISS**, is unfortunately only available on Linux (and possibly Mac) - we cannot implement it with Windows. But, whether you can access FAISS or not, the first approach often performs just as well."
   ]
  }
 ],
 "metadata": {
  "kernelspec": {
   "display_name": "ML",
   "language": "python",
   "name": "ml"
  },
  "language_info": {
   "codemirror_mode": {
    "name": "ipython",
    "version": 3
   },
   "file_extension": ".py",
   "mimetype": "text/x-python",
   "name": "python",
   "nbconvert_exporter": "python",
   "pygments_lexer": "ipython3",
   "version": "3.8.5"
  }
 },
 "nbformat": 4,
 "nbformat_minor": 4
}
