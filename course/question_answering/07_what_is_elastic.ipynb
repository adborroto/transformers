{
 "cells": [
  {
   "cell_type": "markdown",
   "metadata": {},
   "source": [
    "# Elasticsearch\n",
    "\n",
    "Elasticsearch is a popular schema-less document store. It's scalable, highly available, and very fast. It achieves this by splitting data across *nodes*, which can be split into *shards* (we will explain this soon) - all of these are automatically replicated to protect against data loss.\n",
    "\n",
    "Elasticsearch can be combined with Logstash, Kibana, and Beats - to produce the Elastic (*or ELK* stack.\n",
    "\n",
    "We won't be diving too deeply into what exactly Elasticsearch is, and it isn't wholly required for building Q&A models. But it will help.\n",
    "\n",
    "## How it Works\n",
    "\n",
    "The top-level of a Elasticsearch deployment is called a cluster. This it the contain within which everything else is contained:\n",
    "\n",
    "![The Elasticsearch cluster acts as our instance container](../../assets/images/elasticsearch_cluster.jpeg)\n",
    "\n",
    "Inside our cluster we have nodes. We can think of these as individual processing units, often we would try to place each node on separate hardware — we do this to provide fault tolerance — if one component fails and a node goes down, we have other nodes to take its place.\n",
    "\n",
    "The next layer down gives us our indices. A single index is like a dataset. And within these indices, we store data as schema-less ‘documents’:\n",
    "\n",
    "![The Elasticsearch index that contains schema-less documents](../../assets/images/elasticsearch_index.jpeg)\n",
    "\n",
    "Schema-less refers to the lack of a common data structure. This is the opposite of schema-based SQL databases — where every entry is assigned a set of values that correspond to a strict set of fields defined by the table schema.\n",
    "\n",
    "Rather than following a strict schema, our indices are built of ‘documents’ where each entry can contain an entirely different set of fields. These documents are stored as JSON objects, which look like this:\n",
    "\n",
    "```json\n",
    "{\n",
    "    'id': 'abc',\n",
    "    'project': 'homegrown cucumbers',\n",
    "    'codename': 'X',\n",
    "    'cool-factor': '10'\n",
    "}\n",
    "```\n",
    "\n",
    "And another document in the same index might look like this:\n",
    "\n",
    "```json\n",
    "{\n",
    "    'id': 'def',\n",
    "    'project': 'making faster lawnmowers',\n",
    "    'codename': 'go-fast',\n",
    "    'notes': 'adding stripes does not work',\n",
    "    'ideas': 'rockets'\n",
    "}\n",
    "```\n",
    "\n",
    "Indices can be split down into shards — which can then be distributed across our nodes to improve processing speed by enabling *parallel* queries, and improving fault tolerance (if one node goes down, we still have another running).\n",
    "\n",
    "## Elasticsearch and Haystack\n",
    "\n",
    "We will not be directly interfacing with Elasticsearch, this will instead be handled by Haystack. However, we will be building our document store using the typical Elasticsearch API calls, which we'll get around to very soon.\n",
    "\n",
    "[Read more about Elasticsearch here](https://towardsdatascience.com/next-gen-data-storage-and-analytics-with-elasticsearch-a833ca7ca54a?sk=ac69a52fa04714900cc4f2dd74e5cd68)"
   ]
  },
  {
   "cell_type": "code",
   "execution_count": null,
   "metadata": {},
   "outputs": [],
   "source": []
  }
 ],
 "metadata": {
  "kernelspec": {
   "display_name": "ML",
   "language": "python",
   "name": "ml"
  },
  "language_info": {
   "codemirror_mode": {
    "name": "ipython",
    "version": 3
   },
   "file_extension": ".py",
   "mimetype": "text/x-python",
   "name": "python",
   "nbconvert_exporter": "python",
   "pygments_lexer": "ipython3",
   "version": "3.8.5"
  }
 },
 "nbformat": 4,
 "nbformat_minor": 4
}
