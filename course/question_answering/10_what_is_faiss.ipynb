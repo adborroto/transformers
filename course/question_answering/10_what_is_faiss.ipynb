{
 "cells": [
  {
   "cell_type": "markdown",
   "metadata": {},
   "source": [
    "# What is FAISS\n",
    "\n",
    "**Facebook AI Similarity Search** (FAISS) is a more efficient implementation of *similarity searching* that can be used to efficiently scale to millions of samples without issue.\n",
    "\n",
    "Similarity search typically works by creating vectors from data, these vectors are represented as *points* in a highly-dimensional space (so like points in a 3D chart, but with 100+ dimensions).\n",
    "\n",
    "We can then introduce a new vector and search for similiar entries by comparing where it is within that highly dimensional space to all of the other vectors, often using Euclidean distance (L2 norm) or dot-product to measure similarity.\n",
    "\n",
    "At it's core, this is an approximate nearest neighbors (ANN) algorithm. However, FAISS performs multiple operations and transformations to speed up this process. These are split into four components:\n",
    "\n",
    "* Very efficient GPU usage\n",
    "\n",
    "* Preprocessing of vectors\n",
    "\n",
    "* Inverted File Quantizer (coarse quantizer)\n",
    "\n",
    "* Encoding Quantizer (fine quantizer)\n",
    "\n",
    "## Dense Passage Retriever\n",
    "\n",
    "Now, when we searched through our Elasticsearch document store, we tested two different retrievers - TF-IDF and BM25. Both of these retrievers are referred to as *'sparse retrievers'*. Called sparse as they are using *sparse* vectors (vectors which are built of mostly zero/near-zero values). Alternatively, we have **dense retrievers**, which deal with *dense* vectors, which are packed full of relevant information (unlike sparse with their sparsely concentrated packets of information). We will be using a **Dense Passage Retriever (DPR)** alongside FAISS to retrieve relevant contexts.\n",
    "\n",
    "It is this combination of **Document Store (FAISS)** and **Retriever (DPR)** that we will be building in the next few sections."
   ]
  },
  {
   "cell_type": "code",
   "execution_count": null,
   "metadata": {},
   "outputs": [],
   "source": []
  }
 ],
 "metadata": {
  "kernelspec": {
   "display_name": "ML",
   "language": "python",
   "name": "ml"
  },
  "language_info": {
   "codemirror_mode": {
    "name": "ipython",
    "version": 3
   },
   "file_extension": ".py",
   "mimetype": "text/x-python",
   "name": "python",
   "nbconvert_exporter": "python",
   "pygments_lexer": "ipython3",
   "version": "3.8.5"
  }
 },
 "nbformat": 4,
 "nbformat_minor": 4
}
