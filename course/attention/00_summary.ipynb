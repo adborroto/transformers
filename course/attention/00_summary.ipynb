{
 "cells": [
  {
   "cell_type": "markdown",
   "metadata": {},
   "source": [
    "# Attention\n",
    "\n",
    "In this section we'll cover four different types of attention mechanisms:\n",
    "\n",
    "* Dot-product (encoder-decoder) attention\n",
    "\n",
    "* Self attention\n",
    "\n",
    "* Bidirectional attention\n",
    "\n",
    "* Multihead attention\n",
    "\n",
    "Each of these mechanisms lend well to our understanding of modern day transformer models, which typically use a combination of these mechanisms - for example BERT which uses the dot-product attention, adapted for encoder-encoder mappings using self-attention, which is modified to bidirectional attention - and this operation is performed several times due to multihead attention.\n",
    "\n",
    "![Visual showing the focus of each attention mechanism](../../assets/images/attention_overview.png)\n",
    "\n",
    "Each row in the visual above corresponds to dot-product (encoder-decoder), self, bidirectional, and multihead attention respectively."
   ]
  },
  {
   "cell_type": "code",
   "execution_count": null,
   "metadata": {},
   "outputs": [],
   "source": []
  }
 ],
 "metadata": {
  "kernelspec": {
   "display_name": "ML",
   "language": "python",
   "name": "ml"
  },
  "language_info": {
   "codemirror_mode": {
    "name": "ipython",
    "version": 3
   },
   "file_extension": ".py",
   "mimetype": "text/x-python",
   "name": "python",
   "nbconvert_exporter": "python",
   "pygments_lexer": "ipython3",
   "version": "3.8.5"
  }
 },
 "nbformat": 4,
 "nbformat_minor": 4
}
