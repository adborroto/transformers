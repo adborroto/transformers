{
 "cells": [
  {
   "cell_type": "markdown",
   "metadata": {},
   "source": [
    "# Sentiment Analysis\n",
    "\n",
    "Sentiment analysis is one of the most widely used applications of NLP. It consists of a *language classification* task where our goal is to classify positive, negative, and neutral sentiments. Given the following three statements we would aim to identify whether each is good, bad, or neutral:\n",
    "\n",
    "```\n",
    "GBP rallies after stronger than ever economic performance.\n",
    "```\n",
    "\n",
    "```\n",
    "GBP slips on fears of a divided economy.\n",
    "```\n",
    "\n",
    "```\n",
    "GBP is one of several European currencies.\n",
    "```\n",
    "\n",
    "When reading each of these examples, we percieve an overall feeling (the sentiment) behind each statement. The first sounds like great news, and so we see this as a positive statement. For the second statement, things seem more bleak, and so we perceive a more negative feeling. The final statement has neither positive nor negative connatations - it is simply a factual statement.\n",
    "\n",
    "From this, we can say that statement (1) has a positive sentiment, (2) is negative, and (3) is neutral.\n",
    "\n",
    "The typical flow of information through a sentiment classification model consists of **four** steps:\n",
    "\n",
    "1. Raw text data is tokenized (converted into numerical IDs that map that word to a vector representation of the same word)\n",
    "\n",
    "2. Token IDs are fed into the sentiment model\n",
    "\n",
    "3. A set of values are output, each value represents a class, and the value represents probability of that being the correct sentiment class, from zero (definitely not) to one (definitely yes).\n",
    "\n",
    "4. The argmax of this output array is taken to give us our winning sentiment classification.\n",
    "\n",
    "We do not always have the three outputs classes `[positive, negative, and neutal]`, often we will find models that predict just `[positive, negative]`, or models that are more granular `[very positive, somewhat positive, neutral, somewhat negative, very negative]`. We can change the number of outputs classes (step **3**) to fit to the correct number of classes."
   ]
  }
 ],
 "metadata": {
  "kernelspec": {
   "display_name": "ML",
   "language": "python",
   "name": "ml"
  },
  "language_info": {
   "codemirror_mode": {
    "name": "ipython",
    "version": 3
   },
   "file_extension": ".py",
   "mimetype": "text/x-python",
   "name": "python",
   "nbconvert_exporter": "python",
   "pygments_lexer": "ipython3",
   "version": "3.8.5"
  }
 },
 "nbformat": 4,
 "nbformat_minor": 4
}
