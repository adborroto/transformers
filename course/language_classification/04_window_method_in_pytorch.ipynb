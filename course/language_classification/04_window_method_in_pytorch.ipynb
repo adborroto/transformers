{
 "cells": [
  {
   "cell_type": "markdown",
   "metadata": {},
   "source": [
    "# Window Method in PyTorch\n",
    "\n",
    "In the previous section we built a method for calculating the average sentiment for long pieces of text by breaking the text up into *windows* and calculating the sentiment for each window individually.\n",
    "\n",
    "Our approach in the last section was a quick-and-dirty solution. Here, we will work on improving this process and implementing it solely using PyTorch functions to improve efficiency.\n",
    "\n",
    "The first thing we will do is import modules and initialize our model and tokenizer."
   ]
  },
  {
   "cell_type": "code",
   "execution_count": 1,
   "metadata": {},
   "outputs": [],
   "source": [
    "from transformers import BertForSequenceClassification, BertTokenizer\n",
    "import torch\n",
    "\n",
    "tokenizer = BertTokenizer.from_pretrained('ProsusAI/finbert')\n",
    "model = BertForSequenceClassification.from_pretrained('ProsusAI/finbert')"
   ]
  },
  {
   "cell_type": "markdown",
   "metadata": {},
   "source": [
    "We will be using the same text example as we did previously."
   ]
  },
  {
   "cell_type": "code",
   "execution_count": 2,
   "metadata": {},
   "outputs": [],
   "source": [
    "txt = \"\"\"\n",
    "I would like to get your all  thoughts on the bond yield increase this week.  I am not worried about the market downturn but the sudden increase in yields. On 2/16 the 10 year bonds yields increased by almost  9 percent and on 2/19 the yield increased by almost 5 percent.\n",
    "\n",
    "Key Points from the CNBC Article:\n",
    "\n",
    "* **The “taper tantrum” in 2013 was a sudden spike in Treasury yields due to market panic after the Federal Reserve announced that it would begin tapering its quantitative easing program.**\n",
    "* **Major central banks around the world have cut interest rates to historic lows and launched unprecedented quantities of asset purchases in a bid to shore up the economy throughout the pandemic.**\n",
    "* **However, the recent rise in yields suggests that some investors are starting to anticipate a tightening of policy sooner than anticipated to accommodate a potential rise in inflation.**\n",
    "\n",
    "The recent rise in bond yields and U.S. inflation expectations has some investors wary that a repeat of the 2013 “taper tantrum” could be on the horizon.\n",
    "\n",
    "The benchmark U.S. 10-year Treasury note climbed above 1.3% for the first time since February 2020 earlier this week, while the 30-year bond also hit its highest level for a year. Yields move inversely to bond prices.\n",
    "\n",
    "Yields tend to rise in lockstep with inflation expectations, which have reached their highest levels in a decade in the U.S., powered by increased prospects of a large fiscal stimulus package, progress on vaccine rollouts and pent-up consumer demand.\n",
    "\n",
    "The “taper tantrum” in 2013 was a sudden spike in Treasury yields due to market panic after the Federal Reserve announced that it would begin tapering its quantitative easing program.\n",
    "\n",
    "Major central banks around the world have cut interest rates to historic lows and launched unprecedented quantities of asset purchases in a bid to shore up the economy throughout the pandemic. The Fed and others have maintained supportive tones in recent policy meetings, vowing to keep financial conditions loose as the global economy looks to emerge from the Covid-19 pandemic.\n",
    "\n",
    "However, the recent rise in yields suggests that some investors are starting to anticipate a tightening of policy sooner than anticipated to accommodate a potential rise in inflation.\n",
    "\n",
    "With central bank support removed, bonds usually fall in price which sends yields higher. This can also spill over into stock markets as higher interest rates means more debt servicing for firms, causing traders to reassess the investing environment.\n",
    "\n",
    "“The supportive stance from policymakers will likely remain in place until the vaccines have paved a way to some return to normality,” said Shane Balkham, chief investment officer at Beaufort Investment, in a research note this week.\n",
    "\n",
    "“However, there will be a risk of another ‘taper tantrum’ similar to the one we witnessed in 2013, and this is our main focus for 2021,” Balkham projected, should policymakers begin to unwind this stimulus.\n",
    "\n",
    "Long-term bond yields in Japan and Europe followed U.S. Treasurys higher toward the end of the week as bondholders shifted their portfolios.\n",
    "\n",
    "“The fear is that these assets are priced to perfection when the ECB and Fed might eventually taper,” said Sebastien Galy, senior macro strategist at Nordea Asset Management, in a research note entitled “Little taper tantrum.”\n",
    "\n",
    "“The odds of tapering are helped in the United States by better retail sales after four months of disappointment and the expectation of large issuance from the $1.9 trillion fiscal package.”\n",
    "\n",
    "Galy suggested the Fed would likely extend the duration on its asset purchases, moderating the upward momentum in inflation.\n",
    "\n",
    "“Equity markets have reacted negatively to higher yield as it offers an alternative to the dividend yield and a higher discount to long-term cash flows, making them focus more on medium-term growth such as cyclicals” he said. Cyclicals are stocks whose performance tends to align with economic cycles.\n",
    "\n",
    "Galy expects this process to be more marked in the second half of the year when economic growth picks up, increasing the potential for tapering.\n",
    "\n",
    "## Tapering in the U.S., but not Europe\n",
    "\n",
    "Allianz CEO Oliver Bäte told CNBC on Friday that there was a geographical divergence in how the German insurer is thinking about the prospect of interest rate hikes.\n",
    "\n",
    "“One is Europe, where we continue to have financial repression, where the ECB continues to buy up to the max in order to minimize spreads between the north and the south — the strong balance sheets and the weak ones — and at some point somebody will have to pay the price for that, but in the short term I don’t see any spike in interest rates,” Bäte said, adding that the situation is different stateside.\n",
    "\n",
    "“Because of the massive programs that have happened, the stimulus that is happening, the dollar being the world’s reserve currency, there is clearly a trend to stoke inflation and it is going to come. Again, I don’t know when and how, but the interest rates have been steepening and they should be steepening further.”\n",
    "\n",
    "## Rising yields a ‘normal feature’\n",
    "\n",
    "However, not all analysts are convinced that the rise in bond yields is material for markets. In a note Friday, Barclays Head of European Equity Strategy Emmanuel Cau suggested that rising bond yields were overdue, as they had been lagging the improving macroeconomic outlook for the second half of 2021, and said they were a “normal feature” of economic recovery.\n",
    "\n",
    "“With the key drivers of inflation pointing up, the prospect of even more fiscal stimulus in the U.S. and pent up demand propelled by high excess savings, it seems right for bond yields to catch-up with other more advanced reflation trades,” Cau said, adding that central banks remain “firmly on hold” given the balance of risks.\n",
    "\n",
    "He argued that the steepening yield curve is “typical at the early stages of the cycle,” and that so long as vaccine rollouts are successful, growth continues to tick upward and central banks remain cautious, reflationary moves across asset classes look “justified” and equities should be able to withstand higher rates.\n",
    "\n",
    "“Of course, after the strong move of the last few weeks, equities could mark a pause as many sectors that have rallied with yields look overbought, like commodities and banks,” Cau said.\n",
    "\n",
    "“But at this stage, we think rising yields are more a confirmation of the equity bull market than a threat, so dips should continue to be bought.”\n",
    "\"\"\""
   ]
  },
  {
   "cell_type": "markdown",
   "metadata": {},
   "source": [
    "This time, because we are using PyTorch, we will specify `return_tensors='pt'` when encoding our input text."
   ]
  },
  {
   "cell_type": "code",
   "execution_count": 3,
   "metadata": {},
   "outputs": [
    {
     "name": "stderr",
     "output_type": "stream",
     "text": [
      "Token indices sequence length is longer than the specified maximum sequence length for this model (1345 > 512). Running this sequence through the model will result in indexing errors\n"
     ]
    },
    {
     "name": "stdout",
     "output_type": "stream",
     "text": [
      "1345\n"
     ]
    },
    {
     "data": {
      "text/plain": [
       "{'input_ids': tensor([[1045, 2052, 2066,  ..., 4149, 1012, 1524]]), 'token_type_ids': tensor([[0, 0, 0,  ..., 0, 0, 0]]), 'attention_mask': tensor([[1, 1, 1,  ..., 1, 1, 1]])}"
      ]
     },
     "execution_count": 3,
     "metadata": {},
     "output_type": "execute_result"
    }
   ],
   "source": [
    "tokens = tokenizer.encode_plus(txt, add_special_tokens=False,\n",
    "                               return_tensors='pt')\n",
    "\n",
    "print(len(tokens['input_ids'][0]))\n",
    "tokens"
   ]
  },
  {
   "cell_type": "markdown",
   "metadata": {},
   "source": [
    "Now we have a set of tensors where each tensor contains **1345** tokens. We will use a similiar approach to what we used before where we will pull out a length of **510** tokens (or less), add the CLS and SEP tokens, then add PAD tokens when needed. To create these tensors of length **510** we  need to use the `torch.split` method."
   ]
  },
  {
   "cell_type": "code",
   "execution_count": 4,
   "metadata": {},
   "outputs": [
    {
     "data": {
      "text/plain": [
       "tensor([0, 1, 2, 3, 4, 5, 6, 7, 8, 9])"
      ]
     },
     "execution_count": 4,
     "metadata": {},
     "output_type": "execute_result"
    }
   ],
   "source": [
    "a = torch.arange(10)\n",
    "a"
   ]
  },
  {
   "cell_type": "code",
   "execution_count": 5,
   "metadata": {},
   "outputs": [
    {
     "data": {
      "text/plain": [
       "(tensor([0, 1, 2, 3]), tensor([4, 5, 6, 7]), tensor([8, 9]))"
      ]
     },
     "execution_count": 5,
     "metadata": {},
     "output_type": "execute_result"
    }
   ],
   "source": [
    "torch.split(a, 4)"
   ]
  },
  {
   "cell_type": "markdown",
   "metadata": {},
   "source": [
    "Now we apply `split` to our *input IDs* and *attention mask* tensors. Note that we must access the first element of each tensor because they are shaped like a list within a list (you can see this by comparing the number of square brackets between tensor `a` above, and the tensors shown when outputting `tokens` above."
   ]
  },
  {
   "cell_type": "code",
   "execution_count": 6,
   "metadata": {},
   "outputs": [],
   "source": [
    "input_id_chunks = tokens['input_ids'][0].split(510)\n",
    "mask_chunks = tokens['attention_mask'][0].split(510)"
   ]
  },
  {
   "cell_type": "markdown",
   "metadata": {},
   "source": [
    "To add our CLS (**101**) and SEP (**102**) tokens, we can use the `torch.cat` method. This method takes a *list* of tensors and con**cat**enates them. Let's try it on our example tensor `a` first:"
   ]
  },
  {
   "cell_type": "code",
   "execution_count": 7,
   "metadata": {},
   "outputs": [
    {
     "data": {
      "text/plain": [
       "tensor([101.,   0.,   1.,   2.,   3.,   4.,   5.,   6.,   7.,   8.,   9., 102.])"
      ]
     },
     "execution_count": 7,
     "metadata": {},
     "output_type": "execute_result"
    }
   ],
   "source": [
    "a = torch.cat(\n",
    "    [torch.Tensor([101]), a, torch.Tensor([102])]\n",
    ")\n",
    "\n",
    "a"
   ]
  },
  {
   "cell_type": "markdown",
   "metadata": {},
   "source": [
    "It's that easy! We're almost there now, but we still need to add padding to our tensors to push them upto a length of *512*, which should only be required for the final chunk. To do this we will build an if-statement that checks if the tensor length requires padding, and if so add the correct amount of padding which will be something like `required_len = 512 - tensor_len`. Again, let's test it on tensor `a` first:"
   ]
  },
  {
   "cell_type": "code",
   "execution_count": 8,
   "metadata": {},
   "outputs": [
    {
     "data": {
      "text/plain": [
       "8"
      ]
     },
     "execution_count": 8,
     "metadata": {},
     "output_type": "execute_result"
    }
   ],
   "source": [
    "padding_len = 20 - a.shape[0]\n",
    "\n",
    "padding_len"
   ]
  },
  {
   "cell_type": "code",
   "execution_count": 9,
   "metadata": {},
   "outputs": [
    {
     "data": {
      "text/plain": [
       "tensor([101.,   0.,   1.,   2.,   3.,   4.,   5.,   6.,   7.,   8.,   9., 102.,\n",
       "          0.,   0.,   0.,   0.,   0.,   0.,   0.,   0.])"
      ]
     },
     "execution_count": 9,
     "metadata": {},
     "output_type": "execute_result"
    }
   ],
   "source": [
    "if padding_len > 0:\n",
    "    a = torch.cat(\n",
    "        [a, torch.Tensor([0] * padding_len)]\n",
    "    )\n",
    "\n",
    "a"
   ]
  },
  {
   "cell_type": "markdown",
   "metadata": {},
   "source": [
    "Now let's use the same logic with our `tokens` tensors."
   ]
  },
  {
   "cell_type": "code",
   "execution_count": 10,
   "metadata": {},
   "outputs": [
    {
     "name": "stdout",
     "output_type": "stream",
     "text": [
      "512\n",
      "512\n",
      "512\n"
     ]
    },
    {
     "data": {
      "text/plain": [
       "tensor([  101.,  2153.,  1010.,  1045.,  2123.,  1521.,  1056.,  2113.,  2043.,\n",
       "         1998.,  2129.,  1010.,  2021.,  1996.,  3037.,  6165.,  2031.,  2042.,\n",
       "         9561.,  7406.,  1998.,  2027.,  2323.,  2022.,  9561.,  7406.,  2582.,\n",
       "         1012.,  1524.,  1001.,  1001.,  4803., 16189.,  1037.,  1520.,  3671.,\n",
       "         3444.,  1521.,  2174.,  1010.,  2025.,  2035., 18288.,  2024.,  6427.,\n",
       "         2008.,  1996.,  4125.,  1999.,  5416., 16189.,  2003.,  3430.,  2005.,\n",
       "         6089.,  1012.,  1999.,  1037.,  3602.,  5958.,  1010., 23724.,  2015.,\n",
       "         2132.,  1997.,  2647., 10067.,  5656., 14459.,  6187.,  2226.,  4081.,\n",
       "         2008.,  4803.,  5416., 16189.,  2020.,  2058., 20041.,  1010.,  2004.,\n",
       "         2027.,  2018.,  2042.,  2474., 12588.,  1996.,  9229., 26632., 23035.,\n",
       "        17680.,  2005.,  1996.,  2117.,  2431.,  1997., 25682.,  1010.,  1998.,\n",
       "         2056.,  2027.,  2020.,  1037.,  1523.,  3671.,  3444.,  1524.,  1997.,\n",
       "         3171.,  7233.,  1012.,  1523.,  2007.,  1996.,  3145.,  6853.,  1997.,\n",
       "        14200.,  7302.,  2039.,  1010.,  1996.,  9824.,  1997.,  2130.,  2062.,\n",
       "        10807., 19220.,  1999.,  1996.,  1057.,  1012.,  1055.,  1012.,  1998.,\n",
       "         7279.,  2102.,  2039.,  5157., 15801.,  2011.,  2152.,  9987., 10995.,\n",
       "         1010.,  2009.,  3849.,  2157.,  2005.,  5416., 16189.,  2000.,  4608.,\n",
       "         1011.,  2039.,  2007.,  2060.,  2062.,  3935., 25416., 13490., 14279.,\n",
       "         1010.,  1524.,  6187.,  2226.,  2056.,  1010.,  5815.,  2008.,  2430.,\n",
       "         5085.,  3961.,  1523.,  7933.,  2006.,  2907.,  1524.,  2445.,  1996.,\n",
       "         5703.,  1997., 10831.,  1012.,  2002.,  5275.,  2008.,  1996.,  9561.,\n",
       "         7406., 10750.,  7774.,  2003.,  1523.,  5171.,  2012.,  1996.,  2220.,\n",
       "         5711.,  1997.,  1996.,  5402.,  1010.,  1524.,  1998.,  2008.,  2061.,\n",
       "         2146.,  2004., 17404.,  4897., 12166.,  2024.,  3144.,  1010.,  3930.,\n",
       "         4247.,  2000., 16356., 10745.,  1998.,  2430.,  5085.,  3961., 17145.,\n",
       "         1010., 25416., 13490.,  5649.,  5829.,  2408., 11412.,  4280.,  2298.,\n",
       "         1523., 15123.,  1524.,  1998.,  1041., 15549.,  7368.,  2323.,  2022.,\n",
       "         2583.,  2000., 19319.,  3020.,  6165.,  1012.,  1523.,  1997.,  2607.,\n",
       "         1010.,  2044.,  1996.,  2844.,  2693.,  1997.,  1996.,  2197.,  2261.,\n",
       "         3134.,  1010.,  1041., 15549.,  7368.,  2071.,  2928.,  1037.,  8724.,\n",
       "         2004.,  2116., 11105.,  2008.,  2031., 24356.,  2007., 16189.,  2298.,\n",
       "         2058.,  5092., 18533.,  1010.,  2066., 21955.,  1998.,  5085.,  1010.,\n",
       "         1524.,  6187.,  2226.,  2056.,  1012.,  1523.,  2021.,  2012.,  2023.,\n",
       "         2754.,  1010.,  2057.,  2228.,  4803., 16189.,  2024.,  2062.,  1037.,\n",
       "        13964.,  1997.,  1996., 10067.,  7087.,  3006.,  2084.,  1037.,  5081.,\n",
       "         1010.,  2061., 16510.,  2015.,  2323.,  3613.,  2000.,  2022.,  4149.,\n",
       "         1012.,  1524.,   102.,     0.,     0.,     0.,     0.,     0.,     0.,\n",
       "            0.,     0.,     0.,     0.,     0.,     0.,     0.,     0.,     0.,\n",
       "            0.,     0.,     0.,     0.,     0.,     0.,     0.,     0.,     0.,\n",
       "            0.,     0.,     0.,     0.,     0.,     0.,     0.,     0.,     0.,\n",
       "            0.,     0.,     0.,     0.,     0.,     0.,     0.,     0.,     0.,\n",
       "            0.,     0.,     0.,     0.,     0.,     0.,     0.,     0.,     0.,\n",
       "            0.,     0.,     0.,     0.,     0.,     0.,     0.,     0.,     0.,\n",
       "            0.,     0.,     0.,     0.,     0.,     0.,     0.,     0.,     0.,\n",
       "            0.,     0.,     0.,     0.,     0.,     0.,     0.,     0.,     0.,\n",
       "            0.,     0.,     0.,     0.,     0.,     0.,     0.,     0.,     0.,\n",
       "            0.,     0.,     0.,     0.,     0.,     0.,     0.,     0.,     0.,\n",
       "            0.,     0.,     0.,     0.,     0.,     0.,     0.,     0.,     0.,\n",
       "            0.,     0.,     0.,     0.,     0.,     0.,     0.,     0.,     0.,\n",
       "            0.,     0.,     0.,     0.,     0.,     0.,     0.,     0.,     0.,\n",
       "            0.,     0.,     0.,     0.,     0.,     0.,     0.,     0.,     0.,\n",
       "            0.,     0.,     0.,     0.,     0.,     0.,     0.,     0.,     0.,\n",
       "            0.,     0.,     0.,     0.,     0.,     0.,     0.,     0.,     0.,\n",
       "            0.,     0.,     0.,     0.,     0.,     0.,     0.,     0.,     0.,\n",
       "            0.,     0.,     0.,     0.,     0.,     0.,     0.,     0.,     0.,\n",
       "            0.,     0.,     0.,     0.,     0.,     0.,     0.,     0.,     0.,\n",
       "            0.,     0.,     0.,     0.,     0.,     0.,     0.,     0.])"
      ]
     },
     "execution_count": 10,
     "metadata": {},
     "output_type": "execute_result"
    }
   ],
   "source": [
    "# define target chunksize\n",
    "chunksize = 512\n",
    "\n",
    "# split into chunks of 510 tokens, we also convert to list (default is tuple which is immutable)\n",
    "input_id_chunks = list(tokens['input_ids'][0].split(chunksize - 2))\n",
    "mask_chunks = list(tokens['attention_mask'][0].split(chunksize - 2))\n",
    "\n",
    "# loop through each chunk\n",
    "for i in range(len(input_id_chunks)):\n",
    "    # add CLS and SEP tokens to input IDs\n",
    "    input_id_chunks[i] = torch.cat([\n",
    "        torch.tensor([101]), input_id_chunks[i], torch.tensor([102])\n",
    "    ])\n",
    "    # add attention tokens to attention mask\n",
    "    mask_chunks[i] = torch.cat([\n",
    "        torch.tensor([1]), mask_chunks[i], torch.tensor([1])\n",
    "    ])\n",
    "    # get required padding length\n",
    "    pad_len = chunksize - input_id_chunks[i].shape[0]\n",
    "    # check if tensor length satisfies required chunk size\n",
    "    if pad_len > 0:\n",
    "        # if padding length is more than 0, we must add padding\n",
    "        input_id_chunks[i] = torch.cat([\n",
    "            input_id_chunks[i], torch.Tensor([0] * pad_len)\n",
    "        ])\n",
    "        mask_chunks[i] = torch.cat([\n",
    "            mask_chunks[i], torch.Tensor([0] * pad_len)\n",
    "        ])\n",
    "\n",
    "# check length of each tensor\n",
    "for chunk in input_id_chunks:\n",
    "    print(len(chunk))\n",
    "# print final chunk so we can see 101, 102, and 0 (PAD) tokens are all correctly placed\n",
    "chunk"
   ]
  },
  {
   "cell_type": "markdown",
   "metadata": {},
   "source": [
    "It all looks good! Now the final step of placing our tensors back into the dictionary style format we had before."
   ]
  },
  {
   "cell_type": "code",
   "execution_count": 11,
   "metadata": {},
   "outputs": [
    {
     "data": {
      "text/plain": [
       "{'input_ids': tensor([[  101,  1045,  2052,  ...,  1012,  1523,   102],\n",
       "         [  101,  1996, 16408,  ...,  2272,  1012,   102],\n",
       "         [  101,  2153,  1010,  ...,     0,     0,     0]]),\n",
       " 'attention_mask': tensor([[1, 1, 1,  ..., 1, 1, 1],\n",
       "         [1, 1, 1,  ..., 1, 1, 1],\n",
       "         [1, 1, 1,  ..., 0, 0, 0]], dtype=torch.int32)}"
      ]
     },
     "execution_count": 11,
     "metadata": {},
     "output_type": "execute_result"
    }
   ],
   "source": [
    "input_ids = torch.stack(input_id_chunks)\n",
    "attention_mask = torch.stack(mask_chunks)\n",
    "\n",
    "input_dict = {\n",
    "    'input_ids': input_ids.long(),\n",
    "    'attention_mask': attention_mask.int()\n",
    "}\n",
    "input_dict"
   ]
  },
  {
   "cell_type": "markdown",
   "metadata": {},
   "source": [
    "We can now process all chunks and calculate probabilities using softmax in parallel like so:"
   ]
  },
  {
   "cell_type": "code",
   "execution_count": 12,
   "metadata": {},
   "outputs": [
    {
     "data": {
      "text/plain": [
       "tensor([0.4144, 0.4940, 0.0916], grad_fn=<MeanBackward1>)"
      ]
     },
     "execution_count": 12,
     "metadata": {},
     "output_type": "execute_result"
    }
   ],
   "source": [
    "outputs = model(**input_dict)\n",
    "probs = torch.nn.functional.softmax(outputs[0], dim=-1)\n",
    "probs = probs.mean(dim=0)\n",
    "probs"
   ]
  }
 ],
 "metadata": {
  "kernelspec": {
   "display_name": "ML",
   "language": "python",
   "name": "ml"
  },
  "language_info": {
   "codemirror_mode": {
    "name": "ipython",
    "version": 3
   },
   "file_extension": ".py",
   "mimetype": "text/x-python",
   "name": "python",
   "nbconvert_exporter": "python",
   "pygments_lexer": "ipython3",
   "version": "3.8.5"
  }
 },
 "nbformat": 4,
 "nbformat_minor": 4
}
