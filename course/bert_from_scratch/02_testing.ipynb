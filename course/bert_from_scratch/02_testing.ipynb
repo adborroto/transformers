{
 "metadata": {
  "language_info": {
   "codemirror_mode": {
    "name": "ipython",
    "version": 3
   },
   "file_extension": ".py",
   "mimetype": "text/x-python",
   "name": "python",
   "nbconvert_exporter": "python",
   "pygments_lexer": "ipython3",
   "version": "3.8.5"
  },
  "orig_nbformat": 2,
  "kernelspec": {
   "name": "ml_test",
   "display_name": "ML test",
   "language": "python"
  }
 },
 "nbformat": 4,
 "nbformat_minor": 2,
 "cells": [
  {
   "source": [
    "# File-Mask Testing\n",
    "\n",
    "In this notebook we'll setup a fill-mask pipeline so we can test our new model qualitatively."
   ],
   "cell_type": "markdown",
   "metadata": {}
  },
  {
   "cell_type": "code",
   "execution_count": 1,
   "metadata": {},
   "outputs": [],
   "source": [
    "from transformers import pipeline"
   ]
  },
  {
   "cell_type": "code",
   "execution_count": 2,
   "metadata": {},
   "outputs": [
    {
     "output_type": "stream",
     "name": "stderr",
     "text": [
      "Some weights of RobertaModel were not initialized from the model checkpoint at filiberto and are newly initialized: ['roberta.pooler.dense.weight', 'roberta.pooler.dense.bias']\nYou should probably TRAIN this model on a down-stream task to be able to use it for predictions and inference.\n"
     ]
    }
   ],
   "source": [
    "fill = pipeline('fill-mask', model='filiberto', tokenizer='filiberto')"
   ]
  },
  {
   "cell_type": "code",
   "execution_count": 3,
   "metadata": {},
   "outputs": [
    {
     "output_type": "execute_result",
     "data": {
      "text/plain": [
       "[{'sequence': '<s>ciao come va?</s>',\n",
       "  'score': 0.33601945638656616,\n",
       "  'token': 482,\n",
       "  'token_str': 'Ġcome'},\n",
       " {'sequence': '<s>ciao, va?</s>',\n",
       "  'score': 0.13736604154109955,\n",
       "  'token': 16,\n",
       "  'token_str': ','},\n",
       " {'sequence': '<s>ciao mi va?</s>',\n",
       "  'score': 0.05658061057329178,\n",
       "  'token': 474,\n",
       "  'token_str': 'Ġmi'},\n",
       " {'sequence': '<s>ciao chi va?</s>',\n",
       "  'score': 0.047595467418432236,\n",
       "  'token': 586,\n",
       "  'token_str': 'Ġchi'},\n",
       " {'sequence': '<s>ciao ci va?</s>',\n",
       "  'score': 0.03684385493397713,\n",
       "  'token': 435,\n",
       "  'token_str': 'Ġci'}]"
      ]
     },
     "metadata": {},
     "execution_count": 3
    }
   ],
   "source": [
    "fill(f'ciao {fill.tokenizer.mask_token} va?')"
   ]
  },
  {
   "cell_type": "code",
   "execution_count": 4,
   "metadata": {},
   "outputs": [
    {
     "output_type": "execute_result",
     "data": {
      "text/plain": [
       "[{'sequence': \"<s>La estrazione numero 48 del 10 e LOTTO ogni 5 minuti e' avvenuta sabato 15 settembre 2018 alle ore 04:00 a Roma</s>\",\n",
       "  'score': 0.5213779807090759,\n",
       "  'token': 1298,\n",
       "  'token_str': 'Ġnumero'},\n",
       " {'sequence': \"<s>La estrazione del 48 del 10 e LOTTO ogni 5 minuti e' avvenuta sabato 15 settembre 2018 alle ore 04:00 a Roma</s>\",\n",
       "  'score': 0.18178200721740723,\n",
       "  'token': 292,\n",
       "  'token_str': 'Ġdel'},\n",
       " {'sequence': \"<s>La estrazione di 48 del 10 e LOTTO ogni 5 minuti e' avvenuta sabato 15 settembre 2018 alle ore 04:00 a Roma</s>\",\n",
       "  'score': 0.030307374894618988,\n",
       "  'token': 275,\n",
       "  'token_str': 'Ġdi'},\n",
       " {'sequence': \"<s>La estrazione ogni 48 del 10 e LOTTO ogni 5 minuti e' avvenuta sabato 15 settembre 2018 alle ore 04:00 a Roma</s>\",\n",
       "  'score': 0.018296251073479652,\n",
       "  'token': 787,\n",
       "  'token_str': 'Ġogni'},\n",
       " {'sequence': \"<s>La estrazione dei 48 del 10 e LOTTO ogni 5 minuti e' avvenuta sabato 15 settembre 2018 alle ore 04:00 a Roma</s>\",\n",
       "  'score': 0.01616535894572735,\n",
       "  'token': 439,\n",
       "  'token_str': 'Ġdei'}]"
      ]
     },
     "metadata": {},
     "execution_count": 4
    }
   ],
   "source": [
    "fill(f\"La estrazione {fill.tokenizer.mask_token} 48 del 10 e LOTTO ogni 5 minuti e' avvenuta sabato 15 settembre 2018 alle ore 04:00 a Roma\")"
   ]
  },
  {
   "cell_type": "code",
   "execution_count": null,
   "metadata": {},
   "outputs": [],
   "source": []
  }
 ]
}