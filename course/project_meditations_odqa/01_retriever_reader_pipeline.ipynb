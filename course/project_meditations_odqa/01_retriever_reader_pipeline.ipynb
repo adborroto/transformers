{
 "cells": [
  {
   "cell_type": "markdown",
   "metadata": {},
   "source": [
    "# Retriever Reader Pipeline\n",
    "\n",
    "We've setup our Elasticsearch instance and are now ready to prepare the remainder of our ODQA pipeline - our *retriever* and *reader*.\n",
    "\n",
    "First we initialize the connection to our Elasticsearch document store."
   ]
  },
  {
   "cell_type": "code",
   "execution_count": 1,
   "metadata": {},
   "outputs": [
    {
     "name": "stderr",
     "output_type": "stream",
     "text": [
      "05/28/2021 13:49:39 - INFO - elasticsearch -   HEAD http://localhost:9200/aurelius [status:200 request:0.005s]\n",
      "05/28/2021 13:49:39 - INFO - elasticsearch -   GET http://localhost:9200/aurelius [status:200 request:0.001s]\n",
      "05/28/2021 13:49:39 - INFO - elasticsearch -   PUT http://localhost:9200/aurelius/_mapping [status:200 request:0.006s]\n",
      "05/28/2021 13:49:39 - INFO - elasticsearch -   HEAD http://localhost:9200/label [status:200 request:0.001s]\n"
     ]
    }
   ],
   "source": [
    "from haystack.document_store.elasticsearch import ElasticsearchDocumentStore\n",
    "\n",
    "doc_store = ElasticsearchDocumentStore(\n",
    "    host='localhost',\n",
    "    username='', password='',\n",
    "    index='aurelius'\n",
    ")"
   ]
  },
  {
   "cell_type": "markdown",
   "metadata": {},
   "source": [
    "Then we initialize our retriever and reader models. We will be using [deepset/bert-base-cased-squad2](https://huggingface.co/deepset/bert-base-cased-squad2) as our reader model."
   ]
  },
  {
   "cell_type": "code",
   "execution_count": 2,
   "metadata": {},
   "outputs": [
    {
     "name": "stderr",
     "output_type": "stream",
     "text": [
      "05/28/2021 13:52:46 - INFO - farm.utils -   Using device: CUDA \n",
      "05/28/2021 13:52:46 - INFO - farm.utils -   Number of GPUs: 1\n",
      "05/28/2021 13:52:46 - INFO - farm.utils -   Distributed Training: False\n",
      "05/28/2021 13:52:46 - INFO - farm.utils -   Automatic Mixed Precision: None\n",
      "05/28/2021 13:52:54 - WARNING - farm.utils -   ML Logging is turned off. No parameters, metrics or artifacts will be logged to MLFlow.\n",
      "05/28/2021 13:52:54 - INFO - farm.utils -   Using device: CUDA \n",
      "05/28/2021 13:52:54 - INFO - farm.utils -   Number of GPUs: 1\n",
      "05/28/2021 13:52:54 - INFO - farm.utils -   Distributed Training: False\n",
      "05/28/2021 13:52:54 - INFO - farm.utils -   Automatic Mixed Precision: None\n",
      "05/28/2021 13:52:54 - INFO - farm.infer -   Got ya 19 parallel workers to do inference ...\n",
      "05/28/2021 13:52:54 - INFO - farm.infer -    0    0    0    0    0    0    0    0    0    0    0    0    0    0    0    0    0    0    0 \n",
      "05/28/2021 13:52:54 - INFO - farm.infer -   /w\\  /w\\  /w\\  /w\\  /w\\  /w\\  /w\\  /|\\  /w\\  /w\\  /w\\  /w\\  /w\\  /w\\  /|\\  /w\\  /|\\  /|\\  /|\\\n",
      "05/28/2021 13:52:54 - INFO - farm.infer -   /'\\  / \\  /'\\  /'\\  / \\  / \\  /'\\  /'\\  /'\\  /'\\  /'\\  /'\\  / \\  /'\\  /'\\  / \\  /'\\  /'\\  /'\\\n",
      "05/28/2021 13:52:54 - INFO - farm.infer -                                       \n"
     ]
    }
   ],
   "source": [
    "from haystack.retriever.sparse import ElasticsearchRetriever\n",
    "from haystack.reader.farm import FARMReader\n",
    "\n",
    "retriever = ElasticsearchRetriever(doc_store)  # BM25\n",
    "reader = FARMReader(model_name_or_path='deepset/bert-base-cased-squad2',\n",
    "                    context_window_size=1500,\n",
    "                    use_gpu=True)"
   ]
  },
  {
   "cell_type": "markdown",
   "metadata": {},
   "source": [
    "And now we initialize our ODQA pipeline."
   ]
  },
  {
   "cell_type": "code",
   "execution_count": 3,
   "metadata": {},
   "outputs": [],
   "source": [
    "from haystack.pipeline import ExtractiveQAPipeline\n",
    "\n",
    "qa = ExtractiveQAPipeline(reader=reader, retriever=retriever)"
   ]
  },
  {
   "cell_type": "markdown",
   "metadata": {},
   "source": [
    "Now we can begin asking questions!"
   ]
  },
  {
   "cell_type": "code",
   "execution_count": 4,
   "metadata": {
    "scrolled": true
   },
   "outputs": [
    {
     "name": "stderr",
     "output_type": "stream",
     "text": [
      "05/28/2021 13:54:38 - INFO - elasticsearch -   POST http://localhost:9200/aurelius/_search [status:200 request:0.045s]\n",
      "Inferencing Samples: 100%|█████████████████████████████████████████████████████████| 1/1 [00:00<00:00,  1.91 Batches/s]\n",
      "Inferencing Samples: 100%|█████████████████████████████████████████████████████████| 1/1 [00:00<00:00, 87.66 Batches/s]\n",
      "Inferencing Samples: 100%|█████████████████████████████████████████████████████████| 1/1 [00:00<00:00, 74.67 Batches/s]\n",
      "Inferencing Samples: 100%|█████████████████████████████████████████████████████████| 1/1 [00:00<00:00, 87.66 Batches/s]\n",
      "Inferencing Samples: 100%|█████████████████████████████████████████████████████████| 1/1 [00:00<00:00, 84.01 Batches/s]\n",
      "Inferencing Samples: 100%|█████████████████████████████████████████████████████████| 1/1 [00:00<00:00, 87.66 Batches/s]\n",
      "Inferencing Samples: 100%|█████████████████████████████████████████████████████████| 1/1 [00:00<00:00, 77.55 Batches/s]\n",
      "Inferencing Samples: 100%|█████████████████████████████████████████████████████████| 1/1 [00:00<00:00, 74.67 Batches/s]\n",
      "Inferencing Samples: 100%|█████████████████████████████████████████████████████████| 1/1 [00:00<00:00, 77.54 Batches/s]\n",
      "Inferencing Samples: 100%|█████████████████████████████████████████████████████████| 1/1 [00:00<00:00, 87.66 Batches/s]\n"
     ]
    },
    {
     "data": {
      "text/plain": [
       "{'query': 'What did your grandfather teach?',\n",
       " 'no_ans_gap': -3.1326475143432617,\n",
       " 'answers': [{'answer': 'good morals and the government of my temper',\n",
       "   'score': 5.544886589050293,\n",
       "   'probability': 0.666658587300231,\n",
       "   'context': 'From my grandfather Verus I learned good morals and the government of my temper.',\n",
       "   'offset_start': 36,\n",
       "   'offset_end': 79,\n",
       "   'offset_start_in_doc': 36,\n",
       "   'offset_end_in_doc': 79,\n",
       "   'document_id': '5b09a8c3-4b4b-4b65-9a18-c7ce5e12a131',\n",
       "   'meta': {'source': 'meditations'}},\n",
       "  {'answer': 'self-government',\n",
       "   'score': 1.4967514276504517,\n",
       "   'probability': 0.5466375192351144,\n",
       "   'context': 'From Maximus I learned self-government, and not to be led aside by anything; and cheerfulness in all circumstances, as well as in illness; and a just admixture in the moral character of sweetness and dignity, and to do what was set before me without complaining. I observed that everybody believed that he thought as he spoke, and that in all that he did he never had any bad intention; and he never showed amazement and surprise, and was never in a hurry, and never put off doing a thing, nor was perplexed nor dejected, nor did he ever laugh to disguise his vexation, nor, on the other hand, was he ever passionate or suspicious. He was accustomed to do acts of beneficence, and was ready to forgive, and was free from all falsehood; and he presented the appearance of a man who could not be diverted from right rather than of a man who had been improved. I observed, too, that no man could ever think that he was despised by Maximus, or ever venture to think himself a better man. He had also the art of being humorous in an agreeable way.',\n",
       "   'offset_start': 23,\n",
       "   'offset_end': 38,\n",
       "   'offset_start_in_doc': 23,\n",
       "   'offset_end_in_doc': 38,\n",
       "   'document_id': 'c11e4d37-cfe6-430d-bd0b-9167c499347c',\n",
       "   'meta': {'source': 'meditations'}},\n",
       "  {'answer': 'thy life under thy mother',\n",
       "   'score': -0.8041689395904541,\n",
       "   'probability': 0.47489086000974556,\n",
       "   'context': 'Termination of activity, cessation from movement and opinion, and in a sense their death, is no evil. Turn thy thoughts now to the consideration of thy life, thy life as a child, as a youth, thy manhood, thy old age, for in these also every change was a death. Is this anything to fear? Turn thy thoughts now to thy life under thy grandfather, then to thy life under thy mother, then to thy life under thy father; and as thou findest many other differences and changes and terminations, ask thyself, Is this anything to fear? In like manner, then, neither are the termination and cessation and change of thy whole life a thing to be afraid of.',\n",
       "   'offset_start': 352,\n",
       "   'offset_end': 377,\n",
       "   'offset_start_in_doc': 352,\n",
       "   'offset_end_in_doc': 377,\n",
       "   'document_id': '40850e60-b34e-4afd-9bf2-79c651239a00',\n",
       "   'meta': {'source': 'meditations'}},\n",
       "  {'answer': 'good teachers',\n",
       "   'score': -3.4105215072631836,\n",
       "   'probability': 0.3950065729598796,\n",
       "   'context': 'From my great-grandfather, not to have frequented public schools, and to have had good teachers at home, and to know that on such things a man should spend liberally.',\n",
       "   'offset_start': 82,\n",
       "   'offset_end': 95,\n",
       "   'offset_start_in_doc': 82,\n",
       "   'offset_end_in_doc': 95,\n",
       "   'document_id': 'f1dc9675-736c-48be-8135-ec20994bce63',\n",
       "   'meta': {'source': 'meditations'}},\n",
       "  {'answer': 'philosophy',\n",
       "   'score': -4.616872310638428,\n",
       "   'probability': 0.3595980747257467,\n",
       "   'context': 'Epicurus says, In my sickness my conversation was not about my bodily sufferings, nor, says he, did I talk on such subjects to those who visited me; but I continued to discourse on the nature of things as before, keeping to this main point, how the mind, while participating in such movements as go on in the poor flesh, shall be free from perturbations and maintain its proper good. Nor did I, he says, give the physicians an opportunity of putting on solemn looks, as if they were doing something great, but my life went on well and happily. Do, then, the same that he did both in sickness, if thou art sick, and in any other circumstances; for never to desert philosophy in any events that may befall us, nor to hold trifling talk either with an ignorant man or with one unacquainted with nature, is a principle of all schools of philosophy; but to be intent only on that which thou art now doing and on the instrument by which thou doest it.',\n",
       "   'offset_start': 663,\n",
       "   'offset_end': 673,\n",
       "   'offset_start_in_doc': 663,\n",
       "   'offset_end_in_doc': 673,\n",
       "   'document_id': 'eaf3fba0-3c2c-4edd-8895-0ab917b809d2',\n",
       "   'meta': {'source': 'meditations'}},\n",
       "  {'answer': 'nature and profitable',\n",
       "   'score': -5.796048164367676,\n",
       "   'probability': 0.3264014993120899,\n",
       "   'context': 'How cruel it is not to allow men to strive after the things which appear to them to be suitable to their nature and profitable! And yet in a manner thou dost not allow them to do this, when thou art vexed because they do wrong. For they are certainly moved towards things because they suppose them to be suitable to their nature and profitable to them.- But it is not so.- Teach them then, and show them without being angry.',\n",
       "   'offset_start': 105,\n",
       "   'offset_end': 126,\n",
       "   'offset_start_in_doc': 105,\n",
       "   'offset_end_in_doc': 126,\n",
       "   'document_id': 'f6f46039-23d3-4c1b-89e4-ce763e878e98',\n",
       "   'meta': {'source': 'meditations'}},\n",
       "  {'answer': 'to be themselves praised by posterity, by those whom they have never seen or ever will see, this they set much value on. But this is very much the same as if thou shouldst be grieved because those who have lived before thee did not praise thee',\n",
       "   'score': -6.202980995178223,\n",
       "   'probability': 0.31531804729987084,\n",
       "   'context': 'How strangely men act. They will not praise those who are living at the same time and living with themselves; but to be themselves praised by posterity, by those whom they have never seen or ever will see, this they set much value on. But this is very much the same as if thou shouldst be grieved because those who have lived before thee did not praise thee.',\n",
       "   'offset_start': 114,\n",
       "   'offset_end': 357,\n",
       "   'offset_start_in_doc': 114,\n",
       "   'offset_end_in_doc': 357,\n",
       "   'document_id': '57ab10df-e6ea-4fcb-8567-7282dce7ee93',\n",
       "   'meta': {'source': 'meditations'}},\n",
       "  {'answer': 'Teach them then or bear',\n",
       "   'score': -6.627281188964844,\n",
       "   'probability': 0.30398134079466144,\n",
       "   'context': 'Men exist for the sake of one another. Teach them then or bear with them.',\n",
       "   'offset_start': 39,\n",
       "   'offset_end': 62,\n",
       "   'offset_start_in_doc': 39,\n",
       "   'offset_end_in_doc': 62,\n",
       "   'document_id': 'd4a4ecf9-387b-4c2d-b788-15745db9dea9',\n",
       "   'meta': {'source': 'meditations'}},\n",
       "  {'answer': 'fig-tree to have juice',\n",
       "   'score': -6.852160453796387,\n",
       "   'probability': 0.29806691792217266,\n",
       "   'context': 'It is natural that these things should be done by such persons, it is a matter of necessity; and if a man will not have it so, he will not allow the fig-tree to have juice. But by all means bear this in mind, that within a very short time both thou and he will be dead; and soon not even your names will be left behind.',\n",
       "   'offset_start': 149,\n",
       "   'offset_end': 171,\n",
       "   'offset_start_in_doc': 149,\n",
       "   'offset_end_in_doc': 171,\n",
       "   'document_id': '7d584678-ae33-416d-ba5a-f44fdcd5a853',\n",
       "   'meta': {'source': 'meditations'}},\n",
       "  {'answer': 'foul smell and blood in a bag',\n",
       "   'score': -7.883597373962402,\n",
       "   'probability': 0.2718117890100081,\n",
       "   'context': 'Does Panthea or Pergamus now sit by the tomb of Verus? Does Chaurias or Diotimus sit by the tomb of Hadrian? That would be ridiculous. Well, suppose they did sit there, would the dead be conscious of it? And if the dead were conscious, would they be pleased? And if they were pleased, would that make them immortal? Was it not in the order of destiny that these persons too should first become old women and old men and then die? What then would those do after these were dead? All this is foul smell and blood in a bag.',\n",
       "   'offset_start': 490,\n",
       "   'offset_end': 519,\n",
       "   'offset_start_in_doc': 490,\n",
       "   'offset_end_in_doc': 519,\n",
       "   'document_id': '6659832d-626f-4d34-bba4-580ba48e0e42',\n",
       "   'meta': {'source': 'meditations'}}]}"
      ]
     },
     "execution_count": 4,
     "metadata": {},
     "output_type": "execute_result"
    }
   ],
   "source": [
    "qa.run(query='What did your grandfather teach?')"
   ]
  },
  {
   "cell_type": "code",
   "execution_count": 5,
   "metadata": {},
   "outputs": [
    {
     "name": "stderr",
     "output_type": "stream",
     "text": [
      "05/28/2021 13:56:04 - INFO - elasticsearch -   POST http://localhost:9200/aurelius/_search [status:200 request:0.006s]\n",
      "Inferencing Samples: 100%|█████████████████████████████████████████████████████████| 1/1 [00:00<00:00, 50.40 Batches/s]\n",
      "Inferencing Samples: 100%|█████████████████████████████████████████████████████████| 1/1 [00:00<00:00, 77.54 Batches/s]\n",
      "Inferencing Samples: 100%|█████████████████████████████████████████████████████████| 1/1 [00:00<00:00, 80.65 Batches/s]\n",
      "Inferencing Samples: 100%|█████████████████████████████████████████████████████████| 1/1 [00:00<00:00, 72.00 Batches/s]\n",
      "Inferencing Samples: 100%|█████████████████████████████████████████████████████████| 1/1 [00:00<00:00, 74.67 Batches/s]\n",
      "Inferencing Samples: 100%|█████████████████████████████████████████████████████████| 1/1 [00:00<00:00, 72.00 Batches/s]\n",
      "Inferencing Samples: 100%|█████████████████████████████████████████████████████████| 1/1 [00:00<00:00, 69.52 Batches/s]\n",
      "Inferencing Samples: 100%|█████████████████████████████████████████████████████████| 1/1 [00:00<00:00, 77.53 Batches/s]\n",
      "Inferencing Samples: 100%|█████████████████████████████████████████████████████████| 1/1 [00:00<00:00, 84.02 Batches/s]\n",
      "Inferencing Samples: 100%|█████████████████████████████████████████████████████████| 1/1 [00:00<00:00, 77.55 Batches/s]\n"
     ]
    },
    {
     "data": {
      "text/plain": [
       "{'query': 'What is the Universe?',\n",
       " 'no_ans_gap': 9.201206684112549,\n",
       " 'answers': [{'answer': 'a well-arranged universe',\n",
       "   'score': 12.65144157409668,\n",
       "   'probability': 0.8294069733589583,\n",
       "   'context': 'Either it is a well-arranged universe or a chaos huddled together, but still a universe. But can a certain order subsist in thee, and disorder in the All? And this too when all things are so separated and diffused and sympathetic.',\n",
       "   'offset_start': 13,\n",
       "   'offset_end': 37,\n",
       "   'offset_start_in_doc': 13,\n",
       "   'offset_end_in_doc': 37,\n",
       "   'document_id': '149aa7b1-d5e3-416e-80cc-fa3355f8ab34',\n",
       "   'meta': {'source': 'meditations'}},\n",
       "  {'answer': 'the universe loves to make whatever is about to be',\n",
       "   'score': 10.463760375976562,\n",
       "   'probability': 0.7871732730339247,\n",
       "   'context': '\"The earth loves the shower\"; and \"the solemn aether loves\": and the universe loves to make whatever is about to be. I say then to the universe, that I love as thou lovest. And is not this too said, that \"this or that loves (is wont) to be produced\"?',\n",
       "   'offset_start': 65,\n",
       "   'offset_end': 115,\n",
       "   'offset_start_in_doc': 65,\n",
       "   'offset_end_in_doc': 115,\n",
       "   'document_id': 'fd992ad9-114c-4032-b386-1c5023bea5a7',\n",
       "   'meta': {'source': 'meditations'}},\n",
       "  {'answer': 'universe',\n",
       "   'score': 6.477474212646484,\n",
       "   'probability': 0.6920422214745836,\n",
       "   'context': 'What is thy art? To be good. And how is this accomplished well except by general principles, some about the nature of the universe, and others about the proper constitution of man?',\n",
       "   'offset_start': 122,\n",
       "   'offset_end': 130,\n",
       "   'offset_start_in_doc': 122,\n",
       "   'offset_end_in_doc': 130,\n",
       "   'document_id': '9c188dd2-4f92-42d7-a2bd-3d436122a23b',\n",
       "   'meta': {'source': 'meditations'}}]}"
      ]
     },
     "execution_count": 5,
     "metadata": {},
     "output_type": "execute_result"
    }
   ],
   "source": [
    "qa.run(query='What is the Universe?',\n",
    "       top_k_reader=3)"
   ]
  },
  {
   "cell_type": "code",
   "execution_count": 6,
   "metadata": {},
   "outputs": [
    {
     "name": "stderr",
     "output_type": "stream",
     "text": [
      "05/28/2021 13:59:16 - INFO - elasticsearch -   POST http://localhost:9200/aurelius/_search [status:200 request:0.006s]\n",
      "Inferencing Samples: 100%|█████████████████████████████████████████████████████████| 1/1 [00:00<00:00, 33.60 Batches/s]\n",
      "Inferencing Samples: 100%|█████████████████████████████████████████████████████████| 1/1 [00:00<00:00, 84.01 Batches/s]\n",
      "Inferencing Samples: 100%|█████████████████████████████████████████████████████████| 1/1 [00:00<00:00, 77.54 Batches/s]\n",
      "Inferencing Samples: 100%|█████████████████████████████████████████████████████████| 1/1 [00:00<00:00, 72.01 Batches/s]\n",
      "Inferencing Samples: 100%|█████████████████████████████████████████████████████████| 1/1 [00:00<00:00, 72.00 Batches/s]\n",
      "Inferencing Samples: 100%|█████████████████████████████████████████████████████████| 1/1 [00:00<00:00, 80.65 Batches/s]\n",
      "Inferencing Samples: 100%|█████████████████████████████████████████████████████████| 1/1 [00:00<00:00, 87.67 Batches/s]\n",
      "Inferencing Samples: 100%|█████████████████████████████████████████████████████████| 1/1 [00:00<00:00, 74.67 Batches/s]\n",
      "Inferencing Samples: 100%|█████████████████████████████████████████████████████████| 1/1 [00:00<00:00, 87.66 Batches/s]\n",
      "Inferencing Samples: 100%|█████████████████████████████████████████████████████████| 1/1 [00:00<00:00, 77.54 Batches/s]\n"
     ]
    },
    {
     "data": {
      "text/plain": [
       "{'query': 'What is art?',\n",
       " 'no_ans_gap': 4.066752910614014,\n",
       " 'answers': [{'answer': 'the acts of life',\n",
       "   'score': 6.919882774353027,\n",
       "   'probability': 0.7037011827300649,\n",
       "   'context': 'Let it make no difference to thee whether thou art cold or warm, if thou art doing thy duty; and whether thou art drowsy or satisfied with sleep; and whether ill-spoken of or praised; and whether dying or doing something else. For it is one of the acts of life, this act by which we die: it is sufficient then in this act also to do well what we have in hand.',\n",
       "   'offset_start': 244,\n",
       "   'offset_end': 260,\n",
       "   'offset_start_in_doc': 244,\n",
       "   'offset_end_in_doc': 260,\n",
       "   'document_id': '1de6a444-ce8a-411a-a946-9e894b6e7e6e',\n",
       "   'meta': {'source': 'meditations'}},\n",
       "  {'answer': 'To be good',\n",
       "   'score': 4.78495454788208,\n",
       "   'probability': 0.6452259181632144,\n",
       "   'context': 'What is thy art? To be good. And how is this accomplished well except by general principles, some about the nature of the universe, and others about the proper constitution of man?',\n",
       "   'offset_start': 17,\n",
       "   'offset_end': 27,\n",
       "   'offset_start_in_doc': 17,\n",
       "   'offset_end_in_doc': 27,\n",
       "   'document_id': '9c188dd2-4f92-42d7-a2bd-3d436122a23b',\n",
       "   'meta': {'source': 'meditations'}},\n",
       "  {'answer': 'thou art governed by nature',\n",
       "   'score': 3.5904784202575684,\n",
       "   'probability': 0.6103562166021556,\n",
       "   'context': 'Observe what thy nature requires, so far as thou art governed by nature only: then do it and accept it, if thy nature, so far as thou art a living being, shall not be made worse by it.',\n",
       "   'offset_start': 44,\n",
       "   'offset_end': 71,\n",
       "   'offset_start_in_doc': 44,\n",
       "   'offset_end_in_doc': 71,\n",
       "   'document_id': '4fc746a4-7342-4b0d-8c7f-f637bd17c26b',\n",
       "   'meta': {'source': 'meditations'}}]}"
      ]
     },
     "execution_count": 6,
     "metadata": {},
     "output_type": "execute_result"
    }
   ],
   "source": [
    "qa.run(query='What is art?',\n",
    "       top_k_reader=3)"
   ]
  },
  {
   "cell_type": "markdown",
   "metadata": {},
   "source": [
    "Pretty cool stuff!"
   ]
  }
 ],
 "metadata": {
  "kernelspec": {
   "display_name": "ML",
   "language": "python",
   "name": "ml"
  },
  "language_info": {
   "codemirror_mode": {
    "name": "ipython",
    "version": 3
   },
   "file_extension": ".py",
   "mimetype": "text/x-python",
   "name": "python",
   "nbconvert_exporter": "python",
   "pygments_lexer": "ipython3",
   "version": "3.8.5"
  }
 },
 "nbformat": 4,
 "nbformat_minor": 4
}
